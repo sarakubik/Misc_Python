{
 "cells": [
  {
   "cell_type": "code",
   "execution_count": 8,
   "id": "f7f6f65c",
   "metadata": {},
   "outputs": [],
   "source": [
    "import pandas as pd\n",
    "#from scipy.stats import pearsonr\n",
    "import scipy.stats\n",
    "from matplotlib import pyplot"
   ]
  },
  {
   "cell_type": "code",
   "execution_count": 2,
   "id": "d4edd050",
   "metadata": {},
   "outputs": [
    {
     "data": {
      "text/html": [
       "<div>\n",
       "<style scoped>\n",
       "    .dataframe tbody tr th:only-of-type {\n",
       "        vertical-align: middle;\n",
       "    }\n",
       "\n",
       "    .dataframe tbody tr th {\n",
       "        vertical-align: top;\n",
       "    }\n",
       "\n",
       "    .dataframe thead th {\n",
       "        text-align: right;\n",
       "    }\n",
       "</style>\n",
       "<table border=\"1\" class=\"dataframe\">\n",
       "  <thead>\n",
       "    <tr style=\"text-align: right;\">\n",
       "      <th></th>\n",
       "      <th>Pregnancies</th>\n",
       "      <th>Glucose</th>\n",
       "      <th>BloodPressure</th>\n",
       "      <th>SkinThickness</th>\n",
       "      <th>Insulin</th>\n",
       "      <th>BMI</th>\n",
       "      <th>DiabetesPedigreeFunction</th>\n",
       "      <th>Age</th>\n",
       "      <th>Outcome</th>\n",
       "    </tr>\n",
       "  </thead>\n",
       "  <tbody>\n",
       "    <tr>\n",
       "      <th>0</th>\n",
       "      <td>6</td>\n",
       "      <td>129</td>\n",
       "      <td>90</td>\n",
       "      <td>7</td>\n",
       "      <td>326</td>\n",
       "      <td>19.6</td>\n",
       "      <td>0.582</td>\n",
       "      <td>60</td>\n",
       "      <td>0</td>\n",
       "    </tr>\n",
       "    <tr>\n",
       "      <th>1</th>\n",
       "      <td>12</td>\n",
       "      <td>92</td>\n",
       "      <td>62</td>\n",
       "      <td>7</td>\n",
       "      <td>258</td>\n",
       "      <td>27.6</td>\n",
       "      <td>0.926</td>\n",
       "      <td>44</td>\n",
       "      <td>1</td>\n",
       "    </tr>\n",
       "    <tr>\n",
       "      <th>2</th>\n",
       "      <td>1</td>\n",
       "      <td>90</td>\n",
       "      <td>68</td>\n",
       "      <td>8</td>\n",
       "      <td>0</td>\n",
       "      <td>24.5</td>\n",
       "      <td>1.138</td>\n",
       "      <td>36</td>\n",
       "      <td>0</td>\n",
       "    </tr>\n",
       "    <tr>\n",
       "      <th>3</th>\n",
       "      <td>1</td>\n",
       "      <td>109</td>\n",
       "      <td>60</td>\n",
       "      <td>8</td>\n",
       "      <td>182</td>\n",
       "      <td>25.4</td>\n",
       "      <td>0.947</td>\n",
       "      <td>21</td>\n",
       "      <td>0</td>\n",
       "    </tr>\n",
       "    <tr>\n",
       "      <th>4</th>\n",
       "      <td>1</td>\n",
       "      <td>73</td>\n",
       "      <td>50</td>\n",
       "      <td>10</td>\n",
       "      <td>0</td>\n",
       "      <td>23.0</td>\n",
       "      <td>0.248</td>\n",
       "      <td>21</td>\n",
       "      <td>0</td>\n",
       "    </tr>\n",
       "  </tbody>\n",
       "</table>\n",
       "</div>"
      ],
      "text/plain": [
       "   Pregnancies  Glucose  BloodPressure  SkinThickness  Insulin   BMI  \\\n",
       "0            6      129             90              7      326  19.6   \n",
       "1           12       92             62              7      258  27.6   \n",
       "2            1       90             68              8        0  24.5   \n",
       "3            1      109             60              8      182  25.4   \n",
       "4            1       73             50             10        0  23.0   \n",
       "\n",
       "   DiabetesPedigreeFunction  Age  Outcome  \n",
       "0                     0.582   60        0  \n",
       "1                     0.926   44        1  \n",
       "2                     1.138   36        0  \n",
       "3                     0.947   21        0  \n",
       "4                     0.248   21        0  "
      ]
     },
     "execution_count": 2,
     "metadata": {},
     "output_type": "execute_result"
    }
   ],
   "source": [
    "df = pd.read_csv('diabetes.csv')\n",
    "df.head()"
   ]
  },
  {
   "cell_type": "code",
   "execution_count": 3,
   "id": "b1e493be",
   "metadata": {},
   "outputs": [],
   "source": [
    "# Convert dataframe into series\n",
    "list1 = df['BMI']\n",
    "list2 = df['Age']"
   ]
  },
  {
   "cell_type": "code",
   "execution_count": 6,
   "id": "5f34c43e",
   "metadata": {},
   "outputs": [
    {
     "data": {
      "image/png": "[encoded data removed]",
      "text/plain": [
       "<Figure size 432x288 with 1 Axes>"
      ]
     },
     "metadata": {
      "needs_background": "light"
     },
     "output_type": "display_data"
    }
   ],
   "source": [
    "pyplot.scatter(list1, list2)\n",
    "pyplot.show()"
   ]
  },
  {
   "cell_type": "code",
   "execution_count": 9,
   "id": "a70868ec",
   "metadata": {},
   "outputs": [
    {
     "data": {
      "text/plain": [
       "(0.08167582209794767, 0.05809489902471642)"
      ]
     },
     "execution_count": 9,
     "metadata": {},
     "output_type": "execute_result"
    }
   ],
   "source": [
    "scipy.stats.pearsonr(list1,list2)\n",
    "#First value is Pearsons correlation\n",
    "#Second value is p value"
   ]
  },
  {
   "cell_type": "code",
   "execution_count": 10,
   "id": "1f4e67e8",
   "metadata": {},
   "outputs": [],
   "source": [
    "#So from above, p is 0.05 which means non-signifigance\n",
    "# Age is not significantly correlated with BMI"
   ]
  },
  {
   "cell_type": "code",
   "execution_count": 11,
   "id": "c3f253a0",
   "metadata": {},
   "outputs": [],
   "source": [
    "list3 = df['BloodPressure']"
   ]
  },
  {
   "cell_type": "code",
   "execution_count": 14,
   "id": "5c40b70b",
   "metadata": {},
   "outputs": [
    {
     "data": {
      "image/png": "[encoded data removed]",
      "text/plain": [
       "<Figure size 432x288 with 1 Axes>"
      ]
     },
     "metadata": {
      "needs_background": "light"
     },
     "output_type": "display_data"
    }
   ],
   "source": [
    "pyplot.scatter(list3, list1)\n",
    "pyplot.show()"
   ]
  },
  {
   "cell_type": "code",
   "execution_count": 15,
   "id": "0303dc2a",
   "metadata": {},
   "outputs": [
    {
     "data": {
      "text/plain": [
       "(0.2873652763940617, 1.045920067688162e-11)"
      ]
     },
     "execution_count": 15,
     "metadata": {},
     "output_type": "execute_result"
    }
   ],
   "source": [
    "scipy.stats.pearsonr(list3,list1)\n",
    "#First value is Pearsons correlation\n",
    "#Second value is p value"
   ]
  },
  {
   "cell_type": "code",
   "execution_count": 16,
   "id": "d86be713",
   "metadata": {},
   "outputs": [],
   "source": [
    "# I have a significant P value so we reject the null hypothesis and accept alternative hypothesis\n",
    "# and say there is a significant positive correlation between Blood Pressure and BMI\n",
    "# although .287 is low correlation"
   ]
  },
  {
   "cell_type": "code",
   "execution_count": null,
   "id": "3908385c",
   "metadata": {},
   "outputs": [],
   "source": []
  }
 ],
 "metadata": {
  "kernelspec": {
   "display_name": "Python 3",
   "language": "python",
   "name": "python3"
  },
  "language_info": {
   "codemirror_mode": {
    "name": "ipython",
    "version": 3
   },
   "file_extension": ".py",
   "mimetype": "text/x-python",
   "name": "python",
   "nbconvert_exporter": "python",
   "pygments_lexer": "ipython3",
   "version": "3.8.8"
  }
 },
 "nbformat": 4,
 "nbformat_minor": 5
}
