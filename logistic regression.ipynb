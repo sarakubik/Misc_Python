{
 "cells": [
  {
   "cell_type": "markdown",
   "id": "cead345b",
   "metadata": {},
   "source": [
    "# Logistic Regression\n",
    "### Dealing with Independent variables that are both Categorical and Integers"
   ]
  },
  {
   "cell_type": "code",
   "execution_count": 1,
   "id": "ff2e40e5",
   "metadata": {},
   "outputs": [],
   "source": [
    "import pandas as pd\n",
    "import numpy as np\n",
    "\n",
    "#import matplotlib.pyplot as plt\n",
    "\n",
    "from sklearn.linear_model import LogisticRegression\n",
    "from sklearn.model_selection import train_test_split\n",
    "from sklearn.preprocessing import StandardScaler\n",
    "from sklearn.metrics import log_loss, roc_auc_score, recall_score, precision_score,average_precision_score, f1_score, classification_report, accuracy_score, plot_roc_curve, plot_precision_recall_curve, plot_confusion_matrix\n"
   ]
  },
  {
   "cell_type": "code",
   "execution_count": 2,
   "id": "e183cb8b",
   "metadata": {},
   "outputs": [],
   "source": [
    "#to load csv\n",
    "df = pd.read_csv('logistic_regression_data.csv')\n",
    "#data taken from Kaggle that has combined 4 datasets to predict heart disease\n",
    "#https://www.kaggle.com/imnikhilanand/heart-attack-prediction"
   ]
  },
  {
   "cell_type": "markdown",
   "id": "0fcaff3d",
   "metadata": {},
   "source": [
    "### Research question: What factors affect the chances of getting heart disease?\n",
    "#### Y is dependent variable called 'target' where 0 = no heart disease, 1 = yes heart disease\n",
    "#### X are the explanatory variables and are all columns except index and target"
   ]
  },
  {
   "cell_type": "markdown",
   "id": "b52a3724",
   "metadata": {},
   "source": [
    "# Data cleaning"
   ]
  },
  {
   "cell_type": "code",
   "execution_count": 3,
   "id": "33cc95ff",
   "metadata": {},
   "outputs": [
    {
     "data": {
      "text/html": [
       "<div>\n",
       "<style scoped>\n",
       "    .dataframe tbody tr th:only-of-type {\n",
       "        vertical-align: middle;\n",
       "    }\n",
       "\n",
       "    .dataframe tbody tr th {\n",
       "        vertical-align: top;\n",
       "    }\n",
       "\n",
       "    .dataframe thead th {\n",
       "        text-align: right;\n",
       "    }\n",
       "</style>\n",
       "<table border=\"1\" class=\"dataframe\">\n",
       "  <thead>\n",
       "    <tr style=\"text-align: right;\">\n",
       "      <th></th>\n",
       "      <th>age</th>\n",
       "      <th>gender</th>\n",
       "      <th>chest_pain</th>\n",
       "      <th>resting_bps</th>\n",
       "      <th>chol</th>\n",
       "      <th>fasting_blood_sugar</th>\n",
       "      <th>resting_ecg</th>\n",
       "      <th>max_heartrate</th>\n",
       "      <th>ex_angina</th>\n",
       "      <th>oldpeak</th>\n",
       "      <th>target</th>\n",
       "    </tr>\n",
       "  </thead>\n",
       "  <tbody>\n",
       "    <tr>\n",
       "      <th>0</th>\n",
       "      <td>28</td>\n",
       "      <td>1</td>\n",
       "      <td>2</td>\n",
       "      <td>130.0</td>\n",
       "      <td>132.0</td>\n",
       "      <td>0.0</td>\n",
       "      <td>2.0</td>\n",
       "      <td>185.0</td>\n",
       "      <td>0.0</td>\n",
       "      <td>0.0</td>\n",
       "      <td>0</td>\n",
       "    </tr>\n",
       "    <tr>\n",
       "      <th>1</th>\n",
       "      <td>29</td>\n",
       "      <td>1</td>\n",
       "      <td>2</td>\n",
       "      <td>120.0</td>\n",
       "      <td>243.0</td>\n",
       "      <td>0.0</td>\n",
       "      <td>0.0</td>\n",
       "      <td>160.0</td>\n",
       "      <td>0.0</td>\n",
       "      <td>0.0</td>\n",
       "      <td>0</td>\n",
       "    </tr>\n",
       "    <tr>\n",
       "      <th>2</th>\n",
       "      <td>29</td>\n",
       "      <td>1</td>\n",
       "      <td>2</td>\n",
       "      <td>140.0</td>\n",
       "      <td>NaN</td>\n",
       "      <td>0.0</td>\n",
       "      <td>0.0</td>\n",
       "      <td>170.0</td>\n",
       "      <td>0.0</td>\n",
       "      <td>0.0</td>\n",
       "      <td>0</td>\n",
       "    </tr>\n",
       "    <tr>\n",
       "      <th>3</th>\n",
       "      <td>30</td>\n",
       "      <td>0</td>\n",
       "      <td>1</td>\n",
       "      <td>170.0</td>\n",
       "      <td>237.0</td>\n",
       "      <td>0.0</td>\n",
       "      <td>1.0</td>\n",
       "      <td>170.0</td>\n",
       "      <td>0.0</td>\n",
       "      <td>0.0</td>\n",
       "      <td>0</td>\n",
       "    </tr>\n",
       "    <tr>\n",
       "      <th>4</th>\n",
       "      <td>31</td>\n",
       "      <td>0</td>\n",
       "      <td>2</td>\n",
       "      <td>100.0</td>\n",
       "      <td>219.0</td>\n",
       "      <td>0.0</td>\n",
       "      <td>1.0</td>\n",
       "      <td>150.0</td>\n",
       "      <td>0.0</td>\n",
       "      <td>0.0</td>\n",
       "      <td>0</td>\n",
       "    </tr>\n",
       "  </tbody>\n",
       "</table>\n",
       "</div>"
      ],
      "text/plain": [
       "   age  gender  chest_pain  resting_bps   chol  fasting_blood_sugar  \\\n",
       "0   28       1           2        130.0  132.0                  0.0   \n",
       "1   29       1           2        120.0  243.0                  0.0   \n",
       "2   29       1           2        140.0    NaN                  0.0   \n",
       "3   30       0           1        170.0  237.0                  0.0   \n",
       "4   31       0           2        100.0  219.0                  0.0   \n",
       "\n",
       "   resting_ecg  max_heartrate  ex_angina  oldpeak  target  \n",
       "0          2.0          185.0        0.0      0.0       0  \n",
       "1          0.0          160.0        0.0      0.0       0  \n",
       "2          0.0          170.0        0.0      0.0       0  \n",
       "3          1.0          170.0        0.0      0.0       0  \n",
       "4          1.0          150.0        0.0      0.0       0  "
      ]
     },
     "execution_count": 3,
     "metadata": {},
     "output_type": "execute_result"
    }
   ],
   "source": [
    "df.head()"
   ]
  },
  {
   "cell_type": "code",
   "execution_count": 4,
   "id": "33bc8199",
   "metadata": {},
   "outputs": [
    {
     "name": "stdout",
     "output_type": "stream",
     "text": [
      "(294, 11)\n"
     ]
    },
    {
     "data": {
      "text/plain": [
       "age                     0\n",
       "gender                  0\n",
       "chest_pain              0\n",
       "resting_bps             1\n",
       "chol                   23\n",
       "fasting_blood_sugar     8\n",
       "resting_ecg             1\n",
       "max_heartrate           1\n",
       "ex_angina               1\n",
       "oldpeak                 0\n",
       "target                  0\n",
       "dtype: int64"
      ]
     },
     "execution_count": 4,
     "metadata": {},
     "output_type": "execute_result"
    }
   ],
   "source": [
    "#to see if there are any missing values\n",
    "print(df.shape)\n",
    "df.isnull().sum()"
   ]
  },
  {
   "cell_type": "markdown",
   "id": "31bcc40b",
   "metadata": {},
   "source": [
    "### To remove rows with missing values"
   ]
  },
  {
   "cell_type": "code",
   "execution_count": 5,
   "id": "cb753a8a",
   "metadata": {},
   "outputs": [
    {
     "name": "stdout",
     "output_type": "stream",
     "text": [
      "(294, 11)\n",
      "(261, 11)\n"
     ]
    }
   ],
   "source": [
    "print(df.shape)\n",
    "\n",
    "# drop rows with missing values\n",
    "df.dropna(inplace=True)\n",
    "\n",
    "# summarize the shape of the data with missing rows removed\n",
    "print(df.shape)"
   ]
  },
  {
   "cell_type": "code",
   "execution_count": 6,
   "id": "0a8c60e3",
   "metadata": {},
   "outputs": [
    {
     "data": {
      "text/plain": [
       "age                    0\n",
       "gender                 0\n",
       "chest_pain             0\n",
       "resting_bps            0\n",
       "chol                   0\n",
       "fasting_blood_sugar    0\n",
       "resting_ecg            0\n",
       "max_heartrate          0\n",
       "ex_angina              0\n",
       "oldpeak                0\n",
       "target                 0\n",
       "dtype: int64"
      ]
     },
     "execution_count": 6,
     "metadata": {},
     "output_type": "execute_result"
    }
   ],
   "source": [
    "df.isnull().sum()"
   ]
  },
  {
   "cell_type": "code",
   "execution_count": 7,
   "id": "76d0f585",
   "metadata": {},
   "outputs": [],
   "source": [
    "#from https://www.justintodata.com/logistic-regression-example-in-python/\n",
    "# 5 Categorical variables are \n",
    "# gender (1 = male, 0 = female), \n",
    "# chest_pain (1 = typical angina, 2 = atypical angina, 3 = non-anginal pain, 4 = asymptomatic)\n",
    "# fasting_blood_sugar > 120 mg/dl (1 = true; 0 = false)\n",
    "# resting_ecg (0 = normal, 1 = having ST-T wave abnormality, 2 = showing probable or definite left ventricular hypertroph)\n",
    "# ex_angina is for exercise-induced angina (1 = yes; 0 = no)\n",
    "\n",
    "# Among the 5 categorical variables, gender, fasting_blood_sugar, and ex_angina only have two levels of 0 and 1, \n",
    "# so they are already in the dummy variable format. \n",
    "# But we still need to convert chest_pain and resting_ecg into dummy variables."
   ]
  },
  {
   "cell_type": "code",
   "execution_count": 8,
   "id": "638f25d5",
   "metadata": {},
   "outputs": [
    {
     "data": {
      "text/plain": [
       "4    113\n",
       "2     92\n",
       "3     46\n",
       "1     10\n",
       "Name: chest_pain, dtype: int64"
      ]
     },
     "execution_count": 8,
     "metadata": {},
     "output_type": "execute_result"
    }
   ],
   "source": [
    "df['chest_pain'].value_counts(dropna=False)\n",
    "# shows 4 classes"
   ]
  },
  {
   "cell_type": "code",
   "execution_count": 9,
   "id": "e1e5ef05",
   "metadata": {},
   "outputs": [
    {
     "data": {
      "text/plain": [
       "0.0    208\n",
       "1.0     47\n",
       "2.0      6\n",
       "Name: resting_ecg, dtype: int64"
      ]
     },
     "execution_count": 9,
     "metadata": {},
     "output_type": "execute_result"
    }
   ],
   "source": [
    "df['resting_ecg'].value_counts(dropna=False)\n",
    "# shows 3 classes"
   ]
  },
  {
   "cell_type": "code",
   "execution_count": 10,
   "id": "fabca451",
   "metadata": {
    "scrolled": true
   },
   "outputs": [
    {
     "data": {
      "text/html": [
       "<div>\n",
       "<style scoped>\n",
       "    .dataframe tbody tr th:only-of-type {\n",
       "        vertical-align: middle;\n",
       "    }\n",
       "\n",
       "    .dataframe tbody tr th {\n",
       "        vertical-align: top;\n",
       "    }\n",
       "\n",
       "    .dataframe thead th {\n",
       "        text-align: right;\n",
       "    }\n",
       "</style>\n",
       "<table border=\"1\" class=\"dataframe\">\n",
       "  <thead>\n",
       "    <tr style=\"text-align: right;\">\n",
       "      <th></th>\n",
       "      <th>age</th>\n",
       "      <th>gender</th>\n",
       "      <th>resting_bps</th>\n",
       "      <th>chol</th>\n",
       "      <th>fasting_blood_sugar</th>\n",
       "      <th>max_heartrate</th>\n",
       "      <th>ex_angina</th>\n",
       "      <th>oldpeak</th>\n",
       "      <th>target</th>\n",
       "      <th>chest_pain_2</th>\n",
       "      <th>chest_pain_3</th>\n",
       "      <th>chest_pain_4</th>\n",
       "      <th>resting_ecg_1.0</th>\n",
       "      <th>resting_ecg_2.0</th>\n",
       "    </tr>\n",
       "  </thead>\n",
       "  <tbody>\n",
       "    <tr>\n",
       "      <th>0</th>\n",
       "      <td>28</td>\n",
       "      <td>1</td>\n",
       "      <td>130.0</td>\n",
       "      <td>132.0</td>\n",
       "      <td>0.0</td>\n",
       "      <td>185.0</td>\n",
       "      <td>0.0</td>\n",
       "      <td>0.0</td>\n",
       "      <td>0</td>\n",
       "      <td>1</td>\n",
       "      <td>0</td>\n",
       "      <td>0</td>\n",
       "      <td>0</td>\n",
       "      <td>1</td>\n",
       "    </tr>\n",
       "    <tr>\n",
       "      <th>1</th>\n",
       "      <td>29</td>\n",
       "      <td>1</td>\n",
       "      <td>120.0</td>\n",
       "      <td>243.0</td>\n",
       "      <td>0.0</td>\n",
       "      <td>160.0</td>\n",
       "      <td>0.0</td>\n",
       "      <td>0.0</td>\n",
       "      <td>0</td>\n",
       "      <td>1</td>\n",
       "      <td>0</td>\n",
       "      <td>0</td>\n",
       "      <td>0</td>\n",
       "      <td>0</td>\n",
       "    </tr>\n",
       "    <tr>\n",
       "      <th>3</th>\n",
       "      <td>30</td>\n",
       "      <td>0</td>\n",
       "      <td>170.0</td>\n",
       "      <td>237.0</td>\n",
       "      <td>0.0</td>\n",
       "      <td>170.0</td>\n",
       "      <td>0.0</td>\n",
       "      <td>0.0</td>\n",
       "      <td>0</td>\n",
       "      <td>0</td>\n",
       "      <td>0</td>\n",
       "      <td>0</td>\n",
       "      <td>1</td>\n",
       "      <td>0</td>\n",
       "    </tr>\n",
       "    <tr>\n",
       "      <th>4</th>\n",
       "      <td>31</td>\n",
       "      <td>0</td>\n",
       "      <td>100.0</td>\n",
       "      <td>219.0</td>\n",
       "      <td>0.0</td>\n",
       "      <td>150.0</td>\n",
       "      <td>0.0</td>\n",
       "      <td>0.0</td>\n",
       "      <td>0</td>\n",
       "      <td>1</td>\n",
       "      <td>0</td>\n",
       "      <td>0</td>\n",
       "      <td>1</td>\n",
       "      <td>0</td>\n",
       "    </tr>\n",
       "    <tr>\n",
       "      <th>5</th>\n",
       "      <td>32</td>\n",
       "      <td>0</td>\n",
       "      <td>105.0</td>\n",
       "      <td>198.0</td>\n",
       "      <td>0.0</td>\n",
       "      <td>165.0</td>\n",
       "      <td>0.0</td>\n",
       "      <td>0.0</td>\n",
       "      <td>0</td>\n",
       "      <td>1</td>\n",
       "      <td>0</td>\n",
       "      <td>0</td>\n",
       "      <td>0</td>\n",
       "      <td>0</td>\n",
       "    </tr>\n",
       "    <tr>\n",
       "      <th>...</th>\n",
       "      <td>...</td>\n",
       "      <td>...</td>\n",
       "      <td>...</td>\n",
       "      <td>...</td>\n",
       "      <td>...</td>\n",
       "      <td>...</td>\n",
       "      <td>...</td>\n",
       "      <td>...</td>\n",
       "      <td>...</td>\n",
       "      <td>...</td>\n",
       "      <td>...</td>\n",
       "      <td>...</td>\n",
       "      <td>...</td>\n",
       "      <td>...</td>\n",
       "    </tr>\n",
       "    <tr>\n",
       "      <th>289</th>\n",
       "      <td>52</td>\n",
       "      <td>1</td>\n",
       "      <td>160.0</td>\n",
       "      <td>331.0</td>\n",
       "      <td>0.0</td>\n",
       "      <td>94.0</td>\n",
       "      <td>1.0</td>\n",
       "      <td>2.5</td>\n",
       "      <td>1</td>\n",
       "      <td>0</td>\n",
       "      <td>0</td>\n",
       "      <td>1</td>\n",
       "      <td>0</td>\n",
       "      <td>0</td>\n",
       "    </tr>\n",
       "    <tr>\n",
       "      <th>290</th>\n",
       "      <td>54</td>\n",
       "      <td>0</td>\n",
       "      <td>130.0</td>\n",
       "      <td>294.0</td>\n",
       "      <td>0.0</td>\n",
       "      <td>100.0</td>\n",
       "      <td>1.0</td>\n",
       "      <td>0.0</td>\n",
       "      <td>1</td>\n",
       "      <td>0</td>\n",
       "      <td>1</td>\n",
       "      <td>0</td>\n",
       "      <td>1</td>\n",
       "      <td>0</td>\n",
       "    </tr>\n",
       "    <tr>\n",
       "      <th>291</th>\n",
       "      <td>56</td>\n",
       "      <td>1</td>\n",
       "      <td>155.0</td>\n",
       "      <td>342.0</td>\n",
       "      <td>1.0</td>\n",
       "      <td>150.0</td>\n",
       "      <td>1.0</td>\n",
       "      <td>3.0</td>\n",
       "      <td>1</td>\n",
       "      <td>0</td>\n",
       "      <td>0</td>\n",
       "      <td>1</td>\n",
       "      <td>0</td>\n",
       "      <td>0</td>\n",
       "    </tr>\n",
       "    <tr>\n",
       "      <th>292</th>\n",
       "      <td>58</td>\n",
       "      <td>0</td>\n",
       "      <td>180.0</td>\n",
       "      <td>393.0</td>\n",
       "      <td>0.0</td>\n",
       "      <td>110.0</td>\n",
       "      <td>1.0</td>\n",
       "      <td>1.0</td>\n",
       "      <td>1</td>\n",
       "      <td>1</td>\n",
       "      <td>0</td>\n",
       "      <td>0</td>\n",
       "      <td>0</td>\n",
       "      <td>0</td>\n",
       "    </tr>\n",
       "    <tr>\n",
       "      <th>293</th>\n",
       "      <td>65</td>\n",
       "      <td>1</td>\n",
       "      <td>130.0</td>\n",
       "      <td>275.0</td>\n",
       "      <td>0.0</td>\n",
       "      <td>115.0</td>\n",
       "      <td>1.0</td>\n",
       "      <td>1.0</td>\n",
       "      <td>1</td>\n",
       "      <td>0</td>\n",
       "      <td>0</td>\n",
       "      <td>1</td>\n",
       "      <td>1</td>\n",
       "      <td>0</td>\n",
       "    </tr>\n",
       "  </tbody>\n",
       "</table>\n",
       "<p>261 rows × 14 columns</p>\n",
       "</div>"
      ],
      "text/plain": [
       "     age  gender  resting_bps   chol  fasting_blood_sugar  max_heartrate  \\\n",
       "0     28       1        130.0  132.0                  0.0          185.0   \n",
       "1     29       1        120.0  243.0                  0.0          160.0   \n",
       "3     30       0        170.0  237.0                  0.0          170.0   \n",
       "4     31       0        100.0  219.0                  0.0          150.0   \n",
       "5     32       0        105.0  198.0                  0.0          165.0   \n",
       "..   ...     ...          ...    ...                  ...            ...   \n",
       "289   52       1        160.0  331.0                  0.0           94.0   \n",
       "290   54       0        130.0  294.0                  0.0          100.0   \n",
       "291   56       1        155.0  342.0                  1.0          150.0   \n",
       "292   58       0        180.0  393.0                  0.0          110.0   \n",
       "293   65       1        130.0  275.0                  0.0          115.0   \n",
       "\n",
       "     ex_angina  oldpeak  target  chest_pain_2  chest_pain_3  chest_pain_4  \\\n",
       "0          0.0      0.0       0             1             0             0   \n",
       "1          0.0      0.0       0             1             0             0   \n",
       "3          0.0      0.0       0             0             0             0   \n",
       "4          0.0      0.0       0             1             0             0   \n",
       "5          0.0      0.0       0             1             0             0   \n",
       "..         ...      ...     ...           ...           ...           ...   \n",
       "289        1.0      2.5       1             0             0             1   \n",
       "290        1.0      0.0       1             0             1             0   \n",
       "291        1.0      3.0       1             0             0             1   \n",
       "292        1.0      1.0       1             1             0             0   \n",
       "293        1.0      1.0       1             0             0             1   \n",
       "\n",
       "     resting_ecg_1.0  resting_ecg_2.0  \n",
       "0                  0                1  \n",
       "1                  0                0  \n",
       "3                  1                0  \n",
       "4                  1                0  \n",
       "5                  0                0  \n",
       "..               ...              ...  \n",
       "289                0                0  \n",
       "290                1                0  \n",
       "291                0                0  \n",
       "292                0                0  \n",
       "293                1                0  \n",
       "\n",
       "[261 rows x 14 columns]"
      ]
     },
     "execution_count": 10,
     "metadata": {},
     "output_type": "execute_result"
    }
   ],
   "source": [
    "#To get dummy variables and drop first column because it does not identify things\n",
    "df = pd.get_dummies(df, columns=['chest_pain', 'resting_ecg'], drop_first=True)\n",
    "\n",
    "df"
   ]
  },
  {
   "cell_type": "code",
   "execution_count": 11,
   "id": "4afaedf4",
   "metadata": {},
   "outputs": [
    {
     "name": "stdout",
     "output_type": "stream",
     "text": [
      "['age', 'resting_bps', 'chol', 'max_heartrate', 'oldpeak']\n",
      "['chest_pain_2', 'chest_pain_3', 'chest_pain_4', 'ex_angina', 'fasting_blood_sugar', 'gender', 'resting_ecg_1.0', 'resting_ecg_2.0']\n"
     ]
    }
   ],
   "source": [
    "#to set categorical variables as categorical_cols\n",
    "# and numeric variables as numeric_cols\n",
    "numeric_cols = ['age', 'resting_bps', 'chol', 'max_heartrate', 'oldpeak']\n",
    "categorical_cols = list(set(df.columns) - set(numeric_cols) - {'target'})\n",
    "categorical_cols.sort()\n",
    "\n",
    "print(numeric_cols)\n",
    "print(categorical_cols)"
   ]
  },
  {
   "cell_type": "markdown",
   "id": "3d08ff42",
   "metadata": {},
   "source": [
    "# Split into Training and Testing datasets\n",
    "# 20% of original dataset is separated out to be Testing dataset\n",
    "#### stratify dataset to make sure that the train and test sets have approximately the same percentage of samples of each target class as the complete set"
   ]
  },
  {
   "cell_type": "code",
   "execution_count": 12,
   "id": "172e3309",
   "metadata": {
    "scrolled": true
   },
   "outputs": [
    {
     "name": "stdout",
     "output_type": "stream",
     "text": [
      "(208, 14)\n",
      "(53, 14)\n",
      "\n",
      "0    0.625\n",
      "1    0.375\n",
      "Name: target, dtype: float64\n",
      "\n",
      "0    0.622642\n",
      "1    0.377358\n",
      "Name: target, dtype: float64\n"
     ]
    }
   ],
   "source": [
    "random_seed = 888\n",
    "df_train, df_test = train_test_split(df, test_size=0.2, random_state=random_seed, stratify=df['target'])\n",
    "\n",
    "\n",
    "print(df_train.shape)\n",
    "print(df_test.shape)\n",
    "print()\n",
    "print(df_train['target'].value_counts(normalize=True))\n",
    "print()\n",
    "print(df_test['target'].value_counts(normalize=True))"
   ]
  },
  {
   "cell_type": "markdown",
   "id": "09e94d9a",
   "metadata": {},
   "source": [
    "# Normalize data by scaling it\n",
    "#### good to do when your input data has different values (days, inches, lbs)"
   ]
  },
  {
   "cell_type": "code",
   "execution_count": 13,
   "id": "0d031fd4",
   "metadata": {},
   "outputs": [],
   "source": [
    "scaler = StandardScaler()\n",
    "scaler.fit(df_train[numeric_cols])\n",
    "\n",
    "def get_features_and_target_arrays(df, numeric_cols, categorical_cols, scaler):\n",
    "    X_numeric_scaled = scaler.transform(df[numeric_cols])\n",
    "    X_categorical = df[categorical_cols].to_numpy()\n",
    "    X = np.hstack((X_categorical, X_numeric_scaled))\n",
    "    y = df['target']\n",
    "    return X, y\n",
    "\n",
    "X, y = get_features_and_target_arrays(df_train, numeric_cols, categorical_cols, scaler)"
   ]
  },
  {
   "cell_type": "markdown",
   "id": "13dbc53f",
   "metadata": {},
   "source": [
    "# Fit the Logistic Regression Model"
   ]
  },
  {
   "cell_type": "code",
   "execution_count": 14,
   "id": "1e4515e3",
   "metadata": {},
   "outputs": [
    {
     "data": {
      "text/plain": [
       "LogisticRegression(penalty='none')"
      ]
     },
     "execution_count": 14,
     "metadata": {},
     "output_type": "execute_result"
    }
   ],
   "source": [
    "clf = LogisticRegression(penalty='none') # logistic regression with no penalty term in the cost function.\n",
    "\n",
    "clf.fit(X, y)"
   ]
  },
  {
   "cell_type": "markdown",
   "id": "995d1a8c",
   "metadata": {},
   "source": [
    "# Evaluate the Model"
   ]
  },
  {
   "cell_type": "code",
   "execution_count": 15,
   "id": "a6fb80fe",
   "metadata": {},
   "outputs": [],
   "source": [
    "X_test, y_test = get_features_and_target_arrays(df_test, numeric_cols, categorical_cols, scaler)"
   ]
  },
  {
   "cell_type": "code",
   "execution_count": 16,
   "id": "b200a672",
   "metadata": {},
   "outputs": [
    {
     "data": {
      "text/plain": [
       "<sklearn.metrics._plot.roc_curve.RocCurveDisplay at 0x2f1142bcd60>"
      ]
     },
     "execution_count": 16,
     "metadata": {},
     "output_type": "execute_result"
    },
    {
     "data": {
      "image/png": "[encoded data removed]",
      "text/plain": [
       "<Figure size 432x288 with 1 Axes>"
      ]
     },
     "metadata": {
      "needs_background": "light"
     },
     "output_type": "display_data"
    }
   ],
   "source": [
    "#plot a roc curve\n",
    "plot_roc_curve(clf, X_test, y_test)"
   ]
  },
  {
   "cell_type": "code",
   "execution_count": 17,
   "id": "fffb554e",
   "metadata": {},
   "outputs": [],
   "source": [
    "#The ROC curve shows the trade-off between sensitivity (or TPR) and specificity (1 – FPR). \n",
    "# Classifiers that give curves closer to the top-left corner indicate a better performance. \n",
    "#The closer the curve comes to the 45-degree diagonal of the ROC space, the less accurate the test.\n",
    "\n",
    "#Area Under the ROC curve (AUC) is an aggregated metric that evaluates how well a logistic regression model \n",
    "# classifies positive and negative outcomes at all possible cutoffs.\n",
    "# It can range from 0.5 to 1, and the larger it is the better.\n",
    "\n",
    "#Our ROC curve is good and our AUC score is good at .92"
   ]
  },
  {
   "cell_type": "code",
   "execution_count": 18,
   "id": "2245235a",
   "metadata": {},
   "outputs": [
    {
     "data": {
      "text/plain": [
       "<sklearn.metrics._plot.precision_recall_curve.PrecisionRecallDisplay at 0x2f1142b55e0>"
      ]
     },
     "execution_count": 18,
     "metadata": {},
     "output_type": "execute_result"
    },
    {
     "data": {
      "image/png": "[encoded data removed]",
      "text/plain": [
       "<Figure size 432x288 with 1 Axes>"
      ]
     },
     "metadata": {
      "needs_background": "light"
     },
     "output_type": "display_data"
    }
   ],
   "source": [
    "#plot a precision-recall curve\n",
    "plot_precision_recall_curve(clf, X_test, y_test)"
   ]
  },
  {
   "cell_type": "code",
   "execution_count": 19,
   "id": "6c37842d",
   "metadata": {},
   "outputs": [],
   "source": [
    "#Good explanation of precision recall curves here: https://medium.com/@douglaspsteen/precision-recall-curves-d32e5b290248"
   ]
  },
  {
   "cell_type": "code",
   "execution_count": 20,
   "id": "72b7f3f1",
   "metadata": {},
   "outputs": [],
   "source": [
    "test_prob = clf.predict_proba(X_test)[:, 1]\n",
    "test_pred = clf.predict(X_test)"
   ]
  },
  {
   "cell_type": "code",
   "execution_count": 21,
   "id": "a920d11e",
   "metadata": {},
   "outputs": [
    {
     "name": "stdout",
     "output_type": "stream",
     "text": [
      "Log loss = 0.35613\n",
      "AUC = 0.92424\n",
      "Average Precision = 0.89045\n",
      "\n",
      "Using 0.5 as threshold:\n",
      "Accuracy = 0.83019\n",
      "Precision = 0.76190\n",
      "Recall = 0.80000\n",
      "F1 score = 0.78049\n",
      "\n",
      "Classification Report\n",
      "              precision    recall  f1-score   support\n",
      "\n",
      "           0       0.88      0.85      0.86        33\n",
      "           1       0.76      0.80      0.78        20\n",
      "\n",
      "    accuracy                           0.83        53\n",
      "   macro avg       0.82      0.82      0.82        53\n",
      "weighted avg       0.83      0.83      0.83        53\n",
      "\n"
     ]
    }
   ],
   "source": [
    "\n",
    "print('Log loss = {:.5f}'.format(log_loss(y_test, test_prob)))\n",
    "print('AUC = {:.5f}'.format(roc_auc_score(y_test, test_prob)))\n",
    "print('Average Precision = {:.5f}'.format(average_precision_score(y_test, test_prob)))\n",
    "print('\\nUsing 0.5 as threshold:')\n",
    "print('Accuracy = {:.5f}'.format(accuracy_score(y_test, test_pred)))\n",
    "print('Precision = {:.5f}'.format(precision_score(y_test, test_pred)))\n",
    "print('Recall = {:.5f}'.format(recall_score(y_test, test_pred)))\n",
    "print('F1 score = {:.5f}'.format(f1_score(y_test, test_pred)))\n",
    "\n",
    "print('\\nClassification Report')\n",
    "print(classification_report(y_test, test_pred))"
   ]
  },
  {
   "cell_type": "code",
   "execution_count": 22,
   "id": "c06c1ad2",
   "metadata": {},
   "outputs": [
    {
     "name": "stdout",
     "output_type": "stream",
     "text": [
      "Confusion Matrix\n"
     ]
    },
    {
     "data": {
      "text/plain": [
       "<sklearn.metrics._plot.confusion_matrix.ConfusionMatrixDisplay at 0x2f11604c820>"
      ]
     },
     "execution_count": 22,
     "metadata": {},
     "output_type": "execute_result"
    },
    {
     "data": {
      "image/png": "[encoded data removed]",
      "text/plain": [
       "<Figure size 432x288 with 2 Axes>"
      ]
     },
     "metadata": {
      "needs_background": "light"
     },
     "output_type": "display_data"
    }
   ],
   "source": [
    "print('Confusion Matrix')\n",
    "plot_confusion_matrix(clf, X_test, y_test)"
   ]
  },
  {
   "cell_type": "code",
   "execution_count": 23,
   "id": "2fb7a76b",
   "metadata": {},
   "outputs": [],
   "source": [
    "# We have 28 true negatives, 16 true positives\n",
    "# We have 4 false negatives, 5 false positivies"
   ]
  },
  {
   "cell_type": "markdown",
   "id": "4cf1cc14",
   "metadata": {},
   "source": [
    "# Interpretation"
   ]
  },
  {
   "cell_type": "code",
   "execution_count": 24,
   "id": "22bbc75c",
   "metadata": {
    "scrolled": true
   },
   "outputs": [],
   "source": [
    "#coefficients = np.hstack((clf.intercept_, clf.coef_[0]))\n",
    "\n",
    "#pd.DataFrame(data={'variable': ['intercept'] + categorical_cols + numeric_cols, 'coefficient': coefficients})"
   ]
  },
  {
   "cell_type": "code",
   "execution_count": 27,
   "id": "33a4e5e1",
   "metadata": {},
   "outputs": [],
   "source": [
    "independent_var = ['age', 'resting_bps', 'chol', 'max_heartrate', 'oldpeak', 'chest_pain_2', 'chest_pain_3', 'chest_pain_4', 'ex_angina', 'fasting_blood_sugar', 'gender', 'resting_ecg_1.0', 'resting_ecg_2.0']\n",
    "X = df[independent_var] # Independent variables"
   ]
  },
  {
   "cell_type": "code",
   "execution_count": 28,
   "id": "373eda95",
   "metadata": {},
   "outputs": [
    {
     "data": {
      "text/html": [
       "<div>\n",
       "<style scoped>\n",
       "    .dataframe tbody tr th:only-of-type {\n",
       "        vertical-align: middle;\n",
       "    }\n",
       "\n",
       "    .dataframe tbody tr th {\n",
       "        vertical-align: top;\n",
       "    }\n",
       "\n",
       "    .dataframe thead th {\n",
       "        text-align: right;\n",
       "    }\n",
       "</style>\n",
       "<table border=\"1\" class=\"dataframe\">\n",
       "  <thead>\n",
       "    <tr style=\"text-align: right;\">\n",
       "      <th></th>\n",
       "      <th>coef</th>\n",
       "    </tr>\n",
       "  </thead>\n",
       "  <tbody>\n",
       "    <tr>\n",
       "      <th>oldpeak</th>\n",
       "      <td>1.514143</td>\n",
       "    </tr>\n",
       "    <tr>\n",
       "      <th>chest_pain_2</th>\n",
       "      <td>1.290292</td>\n",
       "    </tr>\n",
       "    <tr>\n",
       "      <th>resting_ecg_2.0</th>\n",
       "      <td>1.231252</td>\n",
       "    </tr>\n",
       "    <tr>\n",
       "      <th>max_heartrate</th>\n",
       "      <td>0.514580</td>\n",
       "    </tr>\n",
       "    <tr>\n",
       "      <th>gender</th>\n",
       "      <td>0.345501</td>\n",
       "    </tr>\n",
       "    <tr>\n",
       "      <th>ex_angina</th>\n",
       "      <td>0.059633</td>\n",
       "    </tr>\n",
       "    <tr>\n",
       "      <th>fasting_blood_sugar</th>\n",
       "      <td>-0.013132</td>\n",
       "    </tr>\n",
       "    <tr>\n",
       "      <th>resting_ecg_1.0</th>\n",
       "      <td>-0.285511</td>\n",
       "    </tr>\n",
       "    <tr>\n",
       "      <th>chest_pain_4</th>\n",
       "      <td>-0.429625</td>\n",
       "    </tr>\n",
       "    <tr>\n",
       "      <th>chest_pain_3</th>\n",
       "      <td>-0.638990</td>\n",
       "    </tr>\n",
       "    <tr>\n",
       "      <th>chol</th>\n",
       "      <td>-0.830942</td>\n",
       "    </tr>\n",
       "    <tr>\n",
       "      <th>resting_bps</th>\n",
       "      <td>-1.808676</td>\n",
       "    </tr>\n",
       "    <tr>\n",
       "      <th>age</th>\n",
       "      <td>-2.895253</td>\n",
       "    </tr>\n",
       "  </tbody>\n",
       "</table>\n",
       "</div>"
      ],
      "text/plain": [
       "                         coef\n",
       "oldpeak              1.514143\n",
       "chest_pain_2         1.290292\n",
       "resting_ecg_2.0      1.231252\n",
       "max_heartrate        0.514580\n",
       "gender               0.345501\n",
       "ex_angina            0.059633\n",
       "fasting_blood_sugar -0.013132\n",
       "resting_ecg_1.0     -0.285511\n",
       "chest_pain_4        -0.429625\n",
       "chest_pain_3        -0.638990\n",
       "chol                -0.830942\n",
       "resting_bps         -1.808676\n",
       "age                 -2.895253"
      ]
     },
     "execution_count": 28,
     "metadata": {},
     "output_type": "execute_result"
    }
   ],
   "source": [
    "log_odds = clf.coef_[0]   #put into a dataframe \n",
    "pd.DataFrame(log_odds, \n",
    "             X.columns, \n",
    "             columns=['coef'])\\\n",
    "            .sort_values(by='coef', ascending=False)"
   ]
  },
  {
   "cell_type": "code",
   "execution_count": 30,
   "id": "49562a15",
   "metadata": {},
   "outputs": [
    {
     "data": {
      "text/html": [
       "<div>\n",
       "<style scoped>\n",
       "    .dataframe tbody tr th:only-of-type {\n",
       "        vertical-align: middle;\n",
       "    }\n",
       "\n",
       "    .dataframe tbody tr th {\n",
       "        vertical-align: top;\n",
       "    }\n",
       "\n",
       "    .dataframe thead th {\n",
       "        text-align: right;\n",
       "    }\n",
       "</style>\n",
       "<table border=\"1\" class=\"dataframe\">\n",
       "  <thead>\n",
       "    <tr style=\"text-align: right;\">\n",
       "      <th></th>\n",
       "      <th>coef</th>\n",
       "    </tr>\n",
       "  </thead>\n",
       "  <tbody>\n",
       "    <tr>\n",
       "      <th>oldpeak</th>\n",
       "      <td>4.545525</td>\n",
       "    </tr>\n",
       "    <tr>\n",
       "      <th>chest_pain_2</th>\n",
       "      <td>3.633847</td>\n",
       "    </tr>\n",
       "    <tr>\n",
       "      <th>resting_ecg_2.0</th>\n",
       "      <td>3.425517</td>\n",
       "    </tr>\n",
       "    <tr>\n",
       "      <th>max_heartrate</th>\n",
       "      <td>1.672935</td>\n",
       "    </tr>\n",
       "    <tr>\n",
       "      <th>gender</th>\n",
       "      <td>1.412697</td>\n",
       "    </tr>\n",
       "    <tr>\n",
       "      <th>ex_angina</th>\n",
       "      <td>1.061447</td>\n",
       "    </tr>\n",
       "    <tr>\n",
       "      <th>fasting_blood_sugar</th>\n",
       "      <td>0.986954</td>\n",
       "    </tr>\n",
       "    <tr>\n",
       "      <th>resting_ecg_1.0</th>\n",
       "      <td>0.751630</td>\n",
       "    </tr>\n",
       "    <tr>\n",
       "      <th>chest_pain_4</th>\n",
       "      <td>0.650753</td>\n",
       "    </tr>\n",
       "    <tr>\n",
       "      <th>chest_pain_3</th>\n",
       "      <td>0.527825</td>\n",
       "    </tr>\n",
       "    <tr>\n",
       "      <th>chol</th>\n",
       "      <td>0.435639</td>\n",
       "    </tr>\n",
       "    <tr>\n",
       "      <th>resting_bps</th>\n",
       "      <td>0.163871</td>\n",
       "    </tr>\n",
       "    <tr>\n",
       "      <th>age</th>\n",
       "      <td>0.055285</td>\n",
       "    </tr>\n",
       "  </tbody>\n",
       "</table>\n",
       "</div>"
      ],
      "text/plain": [
       "                         coef\n",
       "oldpeak              4.545525\n",
       "chest_pain_2         3.633847\n",
       "resting_ecg_2.0      3.425517\n",
       "max_heartrate        1.672935\n",
       "gender               1.412697\n",
       "ex_angina            1.061447\n",
       "fasting_blood_sugar  0.986954\n",
       "resting_ecg_1.0      0.751630\n",
       "chest_pain_4         0.650753\n",
       "chest_pain_3         0.527825\n",
       "chol                 0.435639\n",
       "resting_bps          0.163871\n",
       "age                  0.055285"
      ]
     },
     "execution_count": 30,
     "metadata": {},
     "output_type": "execute_result"
    }
   ],
   "source": [
    "#need to convert log odds coefficients to regular odds coefficients\n",
    "odds = np.exp(clf.coef_[0])\n",
    "pd.DataFrame(odds, \n",
    "             X.columns, \n",
    "             columns=['coef'])\\\n",
    "            .sort_values(by='coef', ascending=False)"
   ]
  },
  {
   "cell_type": "markdown",
   "id": "659044d6",
   "metadata": {},
   "source": [
    "### Interpretation if coefficients are greater than 1"
   ]
  },
  {
   "cell_type": "code",
   "execution_count": null,
   "id": "134eac4b",
   "metadata": {},
   "outputs": [],
   "source": [
    "# For every one-unit increase in [X variable], the odds that the observation is in (y class) are \n",
    "# [coefficient] times as large as the odds that \n",
    "# the observation is not in (y class) when all other variables are held constant.”"
   ]
  },
  {
   "cell_type": "code",
   "execution_count": null,
   "id": "53c21fc1",
   "metadata": {},
   "outputs": [],
   "source": [
    "# For every one-unit increase in Maximum heartrate, the odds are 1.67 times larger that you have heart disease\n",
    "# as the odds are that they won't have heart disease\n",
    "# holding all other variables constant"
   ]
  },
  {
   "cell_type": "code",
   "execution_count": null,
   "id": "4537f516",
   "metadata": {},
   "outputs": [],
   "source": [
    "#Looking at gender (remember males = 1). Males have 1.41x greater odds of having heart disease than females,\n",
    "# holding all other features constant"
   ]
  },
  {
   "cell_type": "markdown",
   "id": "0efbc3aa",
   "metadata": {},
   "source": [
    "### Interpretation if coefficients are less than 1 or if coefficients are negative\n",
    "### but idk if this is correct- need to check on it"
   ]
  },
  {
   "cell_type": "code",
   "execution_count": null,
   "id": "6b5aeef4",
   "metadata": {},
   "outputs": [],
   "source": [
    "# First take 1/coefficient\n",
    "# For every one-unit increase in [X variable], the odds that the observation NOT (y class) are \n",
    "# [coefficient] times as large as the odds that \n",
    "# the observation is not in (y class) when all other variables are held constant.”"
   ]
  },
  {
   "cell_type": "code",
   "execution_count": null,
   "id": "20455702",
   "metadata": {},
   "outputs": [],
   "source": [
    "# I don't think this is correct!#\n",
    "#Looking at chest pain, remember typical angina =1. Coefficient of asymptomatic angina (cp_4) = 0.65\n",
    "# 1/0.65 =1.54\n",
    "#For every one-unit increase in asymptomatic angina..\n",
    "# For people with asymptomatic agina, the odds they do not have heart disease are 1.54 times as likely as the odds of them having\n",
    "#heart disease"
   ]
  },
  {
   "cell_type": "code",
   "execution_count": 31,
   "id": "2c138b1b",
   "metadata": {},
   "outputs": [
    {
     "data": {
      "text/html": [
       "<div>\n",
       "<style scoped>\n",
       "    .dataframe tbody tr th:only-of-type {\n",
       "        vertical-align: middle;\n",
       "    }\n",
       "\n",
       "    .dataframe tbody tr th {\n",
       "        vertical-align: top;\n",
       "    }\n",
       "\n",
       "    .dataframe thead th {\n",
       "        text-align: right;\n",
       "    }\n",
       "</style>\n",
       "<table border=\"1\" class=\"dataframe\">\n",
       "  <thead>\n",
       "    <tr style=\"text-align: right;\">\n",
       "      <th></th>\n",
       "      <th>variable</th>\n",
       "      <th>unit</th>\n",
       "    </tr>\n",
       "  </thead>\n",
       "  <tbody>\n",
       "    <tr>\n",
       "      <th>0</th>\n",
       "      <td>age</td>\n",
       "      <td>7.909365</td>\n",
       "    </tr>\n",
       "    <tr>\n",
       "      <th>1</th>\n",
       "      <td>resting_bps</td>\n",
       "      <td>18.039942</td>\n",
       "    </tr>\n",
       "    <tr>\n",
       "      <th>2</th>\n",
       "      <td>chol</td>\n",
       "      <td>63.470764</td>\n",
       "    </tr>\n",
       "    <tr>\n",
       "      <th>3</th>\n",
       "      <td>max_heartrate</td>\n",
       "      <td>24.071915</td>\n",
       "    </tr>\n",
       "    <tr>\n",
       "      <th>4</th>\n",
       "      <td>oldpeak</td>\n",
       "      <td>0.891801</td>\n",
       "    </tr>\n",
       "  </tbody>\n",
       "</table>\n",
       "</div>"
      ],
      "text/plain": [
       "        variable       unit\n",
       "0            age   7.909365\n",
       "1    resting_bps  18.039942\n",
       "2           chol  63.470764\n",
       "3  max_heartrate  24.071915\n",
       "4        oldpeak   0.891801"
      ]
     },
     "execution_count": 31,
     "metadata": {},
     "output_type": "execute_result"
    }
   ],
   "source": [
    "#To look at numerical values, think of them in terms of standard deviations\n",
    "pd.DataFrame(data={'variable': numeric_cols, 'unit': np.sqrt(scaler.var_)})"
   ]
  },
  {
   "cell_type": "code",
   "execution_count": 32,
   "id": "577ad222",
   "metadata": {},
   "outputs": [],
   "source": [
    "#Holding other variables fixed, \n",
    "# there is a 41% increase in the odds of having a heart disease \n",
    "# for every standard deviation increase in cholesterol (63.470764) since exp(0.345501) = 1.41."
   ]
  },
  {
   "cell_type": "code",
   "execution_count": null,
   "id": "f1141e06",
   "metadata": {},
   "outputs": [],
   "source": []
  }
 ],
 "metadata": {
  "kernelspec": {
   "display_name": "Python 3",
   "language": "python",
   "name": "python3"
  },
  "language_info": {
   "codemirror_mode": {
    "name": "ipython",
    "version": 3
   },
   "file_extension": ".py",
   "mimetype": "text/x-python",
   "name": "python",
   "nbconvert_exporter": "python",
   "pygments_lexer": "ipython3",
   "version": "3.8.8"
  }
 },
 "nbformat": 4,
 "nbformat_minor": 5
}
