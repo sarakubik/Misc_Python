{
 "cells": [
  {
   "cell_type": "markdown",
   "id": "eb5e59c8",
   "metadata": {},
   "source": [
    "# Multiple linear regression\n",
    "#### following tutorial here https://codeburst.io/multiple-linear-regression-sklearn-and-statsmodels-798750747755"
   ]
  },
  {
   "cell_type": "code",
   "execution_count": 1,
   "id": "fb9206e7",
   "metadata": {},
   "outputs": [],
   "source": [
    "# Note we are NOT doing a train test split here"
   ]
  },
  {
   "cell_type": "code",
   "execution_count": 2,
   "id": "ff42b909",
   "metadata": {},
   "outputs": [],
   "source": [
    "import pandas as pd\n",
    "import numpy as np\n",
    "from sklearn.model_selection import train_test_split\n",
    "from sklearn.linear_model import LinearRegression\n",
    "import matplotlib.pyplot as plt"
   ]
  },
  {
   "cell_type": "code",
   "execution_count": 3,
   "id": "ddc40031",
   "metadata": {},
   "outputs": [
    {
     "data": {
      "text/html": [
       "<div>\n",
       "<style scoped>\n",
       "    .dataframe tbody tr th:only-of-type {\n",
       "        vertical-align: middle;\n",
       "    }\n",
       "\n",
       "    .dataframe tbody tr th {\n",
       "        vertical-align: top;\n",
       "    }\n",
       "\n",
       "    .dataframe thead th {\n",
       "        text-align: right;\n",
       "    }\n",
       "</style>\n",
       "<table border=\"1\" class=\"dataframe\">\n",
       "  <thead>\n",
       "    <tr style=\"text-align: right;\">\n",
       "      <th></th>\n",
       "      <th>Pregnancies</th>\n",
       "      <th>Glucose</th>\n",
       "      <th>BloodPressure</th>\n",
       "      <th>SkinThickness</th>\n",
       "      <th>Insulin</th>\n",
       "      <th>BMI</th>\n",
       "      <th>DiabetesPedigreeFunction</th>\n",
       "      <th>Age</th>\n",
       "      <th>Outcome</th>\n",
       "    </tr>\n",
       "  </thead>\n",
       "  <tbody>\n",
       "    <tr>\n",
       "      <th>0</th>\n",
       "      <td>6</td>\n",
       "      <td>148</td>\n",
       "      <td>72</td>\n",
       "      <td>35</td>\n",
       "      <td>0</td>\n",
       "      <td>33.6</td>\n",
       "      <td>0.627</td>\n",
       "      <td>50</td>\n",
       "      <td>1</td>\n",
       "    </tr>\n",
       "    <tr>\n",
       "      <th>1</th>\n",
       "      <td>1</td>\n",
       "      <td>85</td>\n",
       "      <td>66</td>\n",
       "      <td>29</td>\n",
       "      <td>0</td>\n",
       "      <td>26.6</td>\n",
       "      <td>0.351</td>\n",
       "      <td>31</td>\n",
       "      <td>0</td>\n",
       "    </tr>\n",
       "    <tr>\n",
       "      <th>2</th>\n",
       "      <td>8</td>\n",
       "      <td>183</td>\n",
       "      <td>64</td>\n",
       "      <td>0</td>\n",
       "      <td>0</td>\n",
       "      <td>23.3</td>\n",
       "      <td>0.672</td>\n",
       "      <td>32</td>\n",
       "      <td>1</td>\n",
       "    </tr>\n",
       "    <tr>\n",
       "      <th>3</th>\n",
       "      <td>1</td>\n",
       "      <td>89</td>\n",
       "      <td>66</td>\n",
       "      <td>23</td>\n",
       "      <td>94</td>\n",
       "      <td>28.1</td>\n",
       "      <td>0.167</td>\n",
       "      <td>21</td>\n",
       "      <td>0</td>\n",
       "    </tr>\n",
       "    <tr>\n",
       "      <th>4</th>\n",
       "      <td>0</td>\n",
       "      <td>137</td>\n",
       "      <td>40</td>\n",
       "      <td>35</td>\n",
       "      <td>168</td>\n",
       "      <td>43.1</td>\n",
       "      <td>2.288</td>\n",
       "      <td>33</td>\n",
       "      <td>1</td>\n",
       "    </tr>\n",
       "  </tbody>\n",
       "</table>\n",
       "</div>"
      ],
      "text/plain": [
       "   Pregnancies  Glucose  BloodPressure  SkinThickness  Insulin   BMI  \\\n",
       "0            6      148             72             35        0  33.6   \n",
       "1            1       85             66             29        0  26.6   \n",
       "2            8      183             64              0        0  23.3   \n",
       "3            1       89             66             23       94  28.1   \n",
       "4            0      137             40             35      168  43.1   \n",
       "\n",
       "   DiabetesPedigreeFunction  Age  Outcome  \n",
       "0                     0.627   50        1  \n",
       "1                     0.351   31        0  \n",
       "2                     0.672   32        1  \n",
       "3                     0.167   21        0  \n",
       "4                     2.288   33        1  "
      ]
     },
     "execution_count": 3,
     "metadata": {},
     "output_type": "execute_result"
    }
   ],
   "source": [
    "df = pd.read_csv('diabetes.csv')\n",
    "df.head()"
   ]
  },
  {
   "cell_type": "code",
   "execution_count": 4,
   "id": "ca7d1e3d",
   "metadata": {},
   "outputs": [],
   "source": [
    "# We want to use age, bloodpressure,and BMI to predict Glucose\n",
    "# so the independent variables X are age, bloodpressure and bmi\n",
    "# predicts the dependent variable, y, or Glucose"
   ]
  },
  {
   "cell_type": "code",
   "execution_count": 5,
   "id": "7556761e",
   "metadata": {},
   "outputs": [
    {
     "data": {
      "text/plain": [
       "(768, 9)"
      ]
     },
     "execution_count": 5,
     "metadata": {},
     "output_type": "execute_result"
    }
   ],
   "source": [
    "df.shape"
   ]
  },
  {
   "cell_type": "code",
   "execution_count": 6,
   "id": "fe198f9d",
   "metadata": {},
   "outputs": [],
   "source": [
    "#768 rows and 9 columns"
   ]
  },
  {
   "cell_type": "code",
   "execution_count": 7,
   "id": "499617fb",
   "metadata": {},
   "outputs": [
    {
     "data": {
      "text/html": [
       "<div>\n",
       "<style scoped>\n",
       "    .dataframe tbody tr th:only-of-type {\n",
       "        vertical-align: middle;\n",
       "    }\n",
       "\n",
       "    .dataframe tbody tr th {\n",
       "        vertical-align: top;\n",
       "    }\n",
       "\n",
       "    .dataframe thead th {\n",
       "        text-align: right;\n",
       "    }\n",
       "</style>\n",
       "<table border=\"1\" class=\"dataframe\">\n",
       "  <thead>\n",
       "    <tr style=\"text-align: right;\">\n",
       "      <th></th>\n",
       "      <th>Pregnancies</th>\n",
       "      <th>Glucose</th>\n",
       "      <th>BloodPressure</th>\n",
       "      <th>SkinThickness</th>\n",
       "      <th>Insulin</th>\n",
       "      <th>BMI</th>\n",
       "      <th>DiabetesPedigreeFunction</th>\n",
       "      <th>Age</th>\n",
       "      <th>Outcome</th>\n",
       "    </tr>\n",
       "  </thead>\n",
       "  <tbody>\n",
       "    <tr>\n",
       "      <th>count</th>\n",
       "      <td>768.000000</td>\n",
       "      <td>768.000000</td>\n",
       "      <td>768.000000</td>\n",
       "      <td>768.000000</td>\n",
       "      <td>768.000000</td>\n",
       "      <td>768.000000</td>\n",
       "      <td>768.000000</td>\n",
       "      <td>768.000000</td>\n",
       "      <td>768.000000</td>\n",
       "    </tr>\n",
       "    <tr>\n",
       "      <th>mean</th>\n",
       "      <td>3.845052</td>\n",
       "      <td>120.894531</td>\n",
       "      <td>69.105469</td>\n",
       "      <td>20.536458</td>\n",
       "      <td>79.799479</td>\n",
       "      <td>31.992578</td>\n",
       "      <td>0.471876</td>\n",
       "      <td>33.240885</td>\n",
       "      <td>0.348958</td>\n",
       "    </tr>\n",
       "    <tr>\n",
       "      <th>std</th>\n",
       "      <td>3.369578</td>\n",
       "      <td>31.972618</td>\n",
       "      <td>19.355807</td>\n",
       "      <td>15.952218</td>\n",
       "      <td>115.244002</td>\n",
       "      <td>7.884160</td>\n",
       "      <td>0.331329</td>\n",
       "      <td>11.760232</td>\n",
       "      <td>0.476951</td>\n",
       "    </tr>\n",
       "    <tr>\n",
       "      <th>min</th>\n",
       "      <td>0.000000</td>\n",
       "      <td>0.000000</td>\n",
       "      <td>0.000000</td>\n",
       "      <td>0.000000</td>\n",
       "      <td>0.000000</td>\n",
       "      <td>0.000000</td>\n",
       "      <td>0.078000</td>\n",
       "      <td>21.000000</td>\n",
       "      <td>0.000000</td>\n",
       "    </tr>\n",
       "    <tr>\n",
       "      <th>25%</th>\n",
       "      <td>1.000000</td>\n",
       "      <td>99.000000</td>\n",
       "      <td>62.000000</td>\n",
       "      <td>0.000000</td>\n",
       "      <td>0.000000</td>\n",
       "      <td>27.300000</td>\n",
       "      <td>0.243750</td>\n",
       "      <td>24.000000</td>\n",
       "      <td>0.000000</td>\n",
       "    </tr>\n",
       "    <tr>\n",
       "      <th>50%</th>\n",
       "      <td>3.000000</td>\n",
       "      <td>117.000000</td>\n",
       "      <td>72.000000</td>\n",
       "      <td>23.000000</td>\n",
       "      <td>30.500000</td>\n",
       "      <td>32.000000</td>\n",
       "      <td>0.372500</td>\n",
       "      <td>29.000000</td>\n",
       "      <td>0.000000</td>\n",
       "    </tr>\n",
       "    <tr>\n",
       "      <th>75%</th>\n",
       "      <td>6.000000</td>\n",
       "      <td>140.250000</td>\n",
       "      <td>80.000000</td>\n",
       "      <td>32.000000</td>\n",
       "      <td>127.250000</td>\n",
       "      <td>36.600000</td>\n",
       "      <td>0.626250</td>\n",
       "      <td>41.000000</td>\n",
       "      <td>1.000000</td>\n",
       "    </tr>\n",
       "    <tr>\n",
       "      <th>max</th>\n",
       "      <td>17.000000</td>\n",
       "      <td>199.000000</td>\n",
       "      <td>122.000000</td>\n",
       "      <td>99.000000</td>\n",
       "      <td>846.000000</td>\n",
       "      <td>67.100000</td>\n",
       "      <td>2.420000</td>\n",
       "      <td>81.000000</td>\n",
       "      <td>1.000000</td>\n",
       "    </tr>\n",
       "  </tbody>\n",
       "</table>\n",
       "</div>"
      ],
      "text/plain": [
       "       Pregnancies     Glucose  BloodPressure  SkinThickness     Insulin  \\\n",
       "count   768.000000  768.000000     768.000000     768.000000  768.000000   \n",
       "mean      3.845052  120.894531      69.105469      20.536458   79.799479   \n",
       "std       3.369578   31.972618      19.355807      15.952218  115.244002   \n",
       "min       0.000000    0.000000       0.000000       0.000000    0.000000   \n",
       "25%       1.000000   99.000000      62.000000       0.000000    0.000000   \n",
       "50%       3.000000  117.000000      72.000000      23.000000   30.500000   \n",
       "75%       6.000000  140.250000      80.000000      32.000000  127.250000   \n",
       "max      17.000000  199.000000     122.000000      99.000000  846.000000   \n",
       "\n",
       "              BMI  DiabetesPedigreeFunction         Age     Outcome  \n",
       "count  768.000000                768.000000  768.000000  768.000000  \n",
       "mean    31.992578                  0.471876   33.240885    0.348958  \n",
       "std      7.884160                  0.331329   11.760232    0.476951  \n",
       "min      0.000000                  0.078000   21.000000    0.000000  \n",
       "25%     27.300000                  0.243750   24.000000    0.000000  \n",
       "50%     32.000000                  0.372500   29.000000    0.000000  \n",
       "75%     36.600000                  0.626250   41.000000    1.000000  \n",
       "max     67.100000                  2.420000   81.000000    1.000000  "
      ]
     },
     "execution_count": 7,
     "metadata": {},
     "output_type": "execute_result"
    }
   ],
   "source": [
    "df.describe()"
   ]
  },
  {
   "cell_type": "code",
   "execution_count": 8,
   "id": "e615b736",
   "metadata": {},
   "outputs": [],
   "source": [
    "#note that if you had any categorical variables, you'll need to convert them to integers\n",
    "# this is from another dataset\n",
    "#varlist =  ['mainroad', 'guestroom', 'basement', 'hotwaterheating', 'airconditioning', 'prefarea']\n",
    "\n",
    "# Defining the map function\n",
    "#def binary_map(x):\n",
    "#    return x.map({'yes': 1, \"no\": 0})\n",
    "\n",
    "# Applying the function to the housing list\n",
    "#df[varlist] = df[varlist].apply(binary_map)\n",
    "\n",
    "# Check the housing dataframe now\n",
    "#df.head()\n",
    "\n",
    "#there's more on converting categorical variables here https://towardsdatascience.com/multiple-linear-regression-model-using-python-machine-learning-d00c78f1172a"
   ]
  },
  {
   "cell_type": "markdown",
   "id": "5fbe5892",
   "metadata": {},
   "source": [
    "# Setting up the dependent y variable and independent x variables"
   ]
  },
  {
   "cell_type": "code",
   "execution_count": 9,
   "id": "b2f00977",
   "metadata": {},
   "outputs": [],
   "source": [
    "X=df[['Age','BloodPressure','BMI']]\n",
    "Y=df['Glucose']"
   ]
  },
  {
   "cell_type": "markdown",
   "id": "f7a5150c",
   "metadata": {},
   "source": [
    "# Regression"
   ]
  },
  {
   "cell_type": "code",
   "execution_count": 10,
   "id": "184a7e0f",
   "metadata": {},
   "outputs": [
    {
     "data": {
      "text/plain": [
       "LinearRegression()"
      ]
     },
     "execution_count": 10,
     "metadata": {},
     "output_type": "execute_result"
    }
   ],
   "source": [
    "reg=LinearRegression()     #initiating linearregression\n",
    "reg.fit(X,Y)"
   ]
  },
  {
   "cell_type": "code",
   "execution_count": 11,
   "id": "a29998c0",
   "metadata": {},
   "outputs": [],
   "source": [
    "Intercept=reg.intercept_\n",
    "Coefficients=reg.coef_"
   ]
  },
  {
   "cell_type": "code",
   "execution_count": 12,
   "id": "ea3d1d73",
   "metadata": {},
   "outputs": [
    {
     "name": "stdout",
     "output_type": "stream",
     "text": [
      "68.18491721655327\n"
     ]
    }
   ],
   "source": [
    "print(Intercept)"
   ]
  },
  {
   "cell_type": "code",
   "execution_count": 13,
   "id": "fbcda6f2",
   "metadata": {},
   "outputs": [
    {
     "name": "stdout",
     "output_type": "stream",
     "text": [
      "[0.67280443 0.06018464 0.81849957]\n"
     ]
    }
   ],
   "source": [
    "print(Coefficients)"
   ]
  },
  {
   "cell_type": "code",
   "execution_count": 14,
   "id": "63d9aacf",
   "metadata": {},
   "outputs": [],
   "source": [
    "import statsmodels.api as sm #for detail description of linear coefficients, intercepts, deviations, and many more"
   ]
  },
  {
   "cell_type": "code",
   "execution_count": 15,
   "id": "0bec028a",
   "metadata": {},
   "outputs": [],
   "source": [
    "#pip install -U statsmodels"
   ]
  },
  {
   "cell_type": "code",
   "execution_count": 16,
   "id": "f56a4595",
   "metadata": {
    "scrolled": true
   },
   "outputs": [
    {
     "data": {
      "text/html": [
       "<table class=\"simpletable\">\n",
       "<caption>OLS Regression Results</caption>\n",
       "<tr>\n",
       "  <th>Dep. Variable:</th>         <td>Glucose</td>     <th>  R-squared:         </th> <td>   0.115</td>\n",
       "</tr>\n",
       "<tr>\n",
       "  <th>Model:</th>                   <td>OLS</td>       <th>  Adj. R-squared:    </th> <td>   0.112</td>\n",
       "</tr>\n",
       "<tr>\n",
       "  <th>Method:</th>             <td>Least Squares</td>  <th>  F-statistic:       </th> <td>   33.22</td>\n",
       "</tr>\n",
       "<tr>\n",
       "  <th>Date:</th>             <td>Fri, 17 Dec 2021</td> <th>  Prob (F-statistic):</th> <td>3.45e-20</td>\n",
       "</tr>\n",
       "<tr>\n",
       "  <th>Time:</th>                 <td>14:06:32</td>     <th>  Log-Likelihood:    </th> <td> -3703.2</td>\n",
       "</tr>\n",
       "<tr>\n",
       "  <th>No. Observations:</th>      <td>   768</td>      <th>  AIC:               </th> <td>   7414.</td>\n",
       "</tr>\n",
       "<tr>\n",
       "  <th>Df Residuals:</th>          <td>   764</td>      <th>  BIC:               </th> <td>   7433.</td>\n",
       "</tr>\n",
       "<tr>\n",
       "  <th>Df Model:</th>              <td>     3</td>      <th>                     </th>     <td> </td>   \n",
       "</tr>\n",
       "<tr>\n",
       "  <th>Covariance Type:</th>      <td>nonrobust</td>    <th>                     </th>     <td> </td>   \n",
       "</tr>\n",
       "</table>\n",
       "<table class=\"simpletable\">\n",
       "<tr>\n",
       "        <td></td>           <th>coef</th>     <th>std err</th>      <th>t</th>      <th>P>|t|</th>  <th>[0.025</th>    <th>0.975]</th>  \n",
       "</tr>\n",
       "<tr>\n",
       "  <th>const</th>         <td>   68.1849</td> <td>    5.801</td> <td>   11.753</td> <td> 0.000</td> <td>   56.796</td> <td>   79.573</td>\n",
       "</tr>\n",
       "<tr>\n",
       "  <th>Age</th>           <td>    0.6728</td> <td>    0.095</td> <td>    7.057</td> <td> 0.000</td> <td>    0.486</td> <td>    0.860</td>\n",
       "</tr>\n",
       "<tr>\n",
       "  <th>BloodPressure</th> <td>    0.0602</td> <td>    0.060</td> <td>    0.998</td> <td> 0.319</td> <td>   -0.058</td> <td>    0.179</td>\n",
       "</tr>\n",
       "<tr>\n",
       "  <th>BMI</th>           <td>    0.8185</td> <td>    0.144</td> <td>    5.688</td> <td> 0.000</td> <td>    0.536</td> <td>    1.101</td>\n",
       "</tr>\n",
       "</table>\n",
       "<table class=\"simpletable\">\n",
       "<tr>\n",
       "  <th>Omnibus:</th>       <td>18.953</td> <th>  Durbin-Watson:     </th> <td>   1.836</td>\n",
       "</tr>\n",
       "<tr>\n",
       "  <th>Prob(Omnibus):</th> <td> 0.000</td> <th>  Jarque-Bera (JB):  </th> <td>  39.165</td>\n",
       "</tr>\n",
       "<tr>\n",
       "  <th>Skew:</th>          <td>-0.009</td> <th>  Prob(JB):          </th> <td>3.13e-09</td>\n",
       "</tr>\n",
       "<tr>\n",
       "  <th>Kurtosis:</th>      <td> 4.106</td> <th>  Cond. No.          </th> <td>    455.</td>\n",
       "</tr>\n",
       "</table><br/><br/>Notes:<br/>[1] Standard Errors assume that the covariance matrix of the errors is correctly specified."
      ],
      "text/plain": [
       "<class 'statsmodels.iolib.summary.Summary'>\n",
       "\"\"\"\n",
       "                            OLS Regression Results                            \n",
       "==============================================================================\n",
       "Dep. Variable:                Glucose   R-squared:                       0.115\n",
       "Model:                            OLS   Adj. R-squared:                  0.112\n",
       "Method:                 Least Squares   F-statistic:                     33.22\n",
       "Date:                Fri, 17 Dec 2021   Prob (F-statistic):           3.45e-20\n",
       "Time:                        14:06:32   Log-Likelihood:                -3703.2\n",
       "No. Observations:                 768   AIC:                             7414.\n",
       "Df Residuals:                     764   BIC:                             7433.\n",
       "Df Model:                           3                                         \n",
       "Covariance Type:            nonrobust                                         \n",
       "=================================================================================\n",
       "                    coef    std err          t      P>|t|      [0.025      0.975]\n",
       "---------------------------------------------------------------------------------\n",
       "const            68.1849      5.801     11.753      0.000      56.796      79.573\n",
       "Age               0.6728      0.095      7.057      0.000       0.486       0.860\n",
       "BloodPressure     0.0602      0.060      0.998      0.319      -0.058       0.179\n",
       "BMI               0.8185      0.144      5.688      0.000       0.536       1.101\n",
       "==============================================================================\n",
       "Omnibus:                       18.953   Durbin-Watson:                   1.836\n",
       "Prob(Omnibus):                  0.000   Jarque-Bera (JB):               39.165\n",
       "Skew:                          -0.009   Prob(JB):                     3.13e-09\n",
       "Kurtosis:                       4.106   Cond. No.                         455.\n",
       "==============================================================================\n",
       "\n",
       "Notes:\n",
       "[1] Standard Errors assume that the covariance matrix of the errors is correctly specified.\n",
       "\"\"\""
      ]
     },
     "execution_count": 16,
     "metadata": {},
     "output_type": "execute_result"
    }
   ],
   "source": [
    "X=sm.add_constant(X)        #to add constant value in the model\n",
    "model= sm.OLS(Y,X).fit()         #fitting the model\n",
    "predictions= model.summary()      #summary of the model\n",
    "predictions"
   ]
  },
  {
   "cell_type": "code",
   "execution_count": 17,
   "id": "16641c56",
   "metadata": {},
   "outputs": [],
   "source": [
    "#So here we see that only Age and BMI are significant with P values\n",
    "# since we have multivariate regression, we need to look at adjusted r-squred, which is pretty low at 11%"
   ]
  },
  {
   "cell_type": "code",
   "execution_count": 18,
   "id": "419665c9",
   "metadata": {},
   "outputs": [],
   "source": [
    "#So let's drop the \"Bloodpressure\" variable to see if we get a better fitting model\n",
    "X_new=df[['Age','BMI']]"
   ]
  },
  {
   "cell_type": "code",
   "execution_count": 19,
   "id": "7212f8e4",
   "metadata": {},
   "outputs": [
    {
     "data": {
      "text/plain": [
       "LinearRegression()"
      ]
     },
     "execution_count": 19,
     "metadata": {},
     "output_type": "execute_result"
    }
   ],
   "source": [
    "reg=LinearRegression()     #initiating linearregression\n",
    "reg.fit(X_new,Y)"
   ]
  },
  {
   "cell_type": "code",
   "execution_count": 20,
   "id": "a3a4d303",
   "metadata": {},
   "outputs": [
    {
     "name": "stdout",
     "output_type": "stream",
     "text": [
      "70.29517231196893\n"
     ]
    }
   ],
   "source": [
    "Intercept=reg.intercept_\n",
    "print(Intercept)\n"
   ]
  },
  {
   "cell_type": "code",
   "execution_count": 21,
   "id": "45ae8241",
   "metadata": {},
   "outputs": [
    {
     "name": "stdout",
     "output_type": "stream",
     "text": [
      "[0.69554933 0.85890806]\n"
     ]
    }
   ],
   "source": [
    "Coefficients=reg.coef_\n",
    "print(Coefficients)"
   ]
  },
  {
   "cell_type": "code",
   "execution_count": 22,
   "id": "53f2afa9",
   "metadata": {},
   "outputs": [
    {
     "data": {
      "text/html": [
       "<table class=\"simpletable\">\n",
       "<caption>OLS Regression Results</caption>\n",
       "<tr>\n",
       "  <th>Dep. Variable:</th>         <td>Glucose</td>     <th>  R-squared:         </th> <td>   0.114</td>\n",
       "</tr>\n",
       "<tr>\n",
       "  <th>Model:</th>                   <td>OLS</td>       <th>  Adj. R-squared:    </th> <td>   0.112</td>\n",
       "</tr>\n",
       "<tr>\n",
       "  <th>Method:</th>             <td>Least Squares</td>  <th>  F-statistic:       </th> <td>   49.33</td>\n",
       "</tr>\n",
       "<tr>\n",
       "  <th>Date:</th>             <td>Fri, 17 Dec 2021</td> <th>  Prob (F-statistic):</th> <td>7.05e-21</td>\n",
       "</tr>\n",
       "<tr>\n",
       "  <th>Time:</th>                 <td>14:07:06</td>     <th>  Log-Likelihood:    </th> <td> -3703.7</td>\n",
       "</tr>\n",
       "<tr>\n",
       "  <th>No. Observations:</th>      <td>   768</td>      <th>  AIC:               </th> <td>   7413.</td>\n",
       "</tr>\n",
       "<tr>\n",
       "  <th>Df Residuals:</th>          <td>   765</td>      <th>  BIC:               </th> <td>   7427.</td>\n",
       "</tr>\n",
       "<tr>\n",
       "  <th>Df Model:</th>              <td>     2</td>      <th>                     </th>     <td> </td>   \n",
       "</tr>\n",
       "<tr>\n",
       "  <th>Covariance Type:</th>      <td>nonrobust</td>    <th>                     </th>     <td> </td>   \n",
       "</tr>\n",
       "</table>\n",
       "<table class=\"simpletable\">\n",
       "<tr>\n",
       "    <td></td>       <th>coef</th>     <th>std err</th>      <th>t</th>      <th>P>|t|</th>  <th>[0.025</th>    <th>0.975]</th>  \n",
       "</tr>\n",
       "<tr>\n",
       "  <th>const</th> <td>   70.2952</td> <td>    5.402</td> <td>   13.013</td> <td> 0.000</td> <td>   59.691</td> <td>   80.899</td>\n",
       "</tr>\n",
       "<tr>\n",
       "  <th>Age</th>   <td>    0.6955</td> <td>    0.093</td> <td>    7.514</td> <td> 0.000</td> <td>    0.514</td> <td>    0.877</td>\n",
       "</tr>\n",
       "<tr>\n",
       "  <th>BMI</th>   <td>    0.8589</td> <td>    0.138</td> <td>    6.220</td> <td> 0.000</td> <td>    0.588</td> <td>    1.130</td>\n",
       "</tr>\n",
       "</table>\n",
       "<table class=\"simpletable\">\n",
       "<tr>\n",
       "  <th>Omnibus:</th>       <td>18.855</td> <th>  Durbin-Watson:     </th> <td>   1.836</td>\n",
       "</tr>\n",
       "<tr>\n",
       "  <th>Prob(Omnibus):</th> <td> 0.000</td> <th>  Jarque-Bera (JB):  </th> <td>  38.868</td>\n",
       "</tr>\n",
       "<tr>\n",
       "  <th>Skew:</th>          <td>-0.007</td> <th>  Prob(JB):          </th> <td>3.63e-09</td>\n",
       "</tr>\n",
       "<tr>\n",
       "  <th>Kurtosis:</th>      <td> 4.102</td> <th>  Cond. No.          </th> <td>    235.</td>\n",
       "</tr>\n",
       "</table><br/><br/>Notes:<br/>[1] Standard Errors assume that the covariance matrix of the errors is correctly specified."
      ],
      "text/plain": [
       "<class 'statsmodels.iolib.summary.Summary'>\n",
       "\"\"\"\n",
       "                            OLS Regression Results                            \n",
       "==============================================================================\n",
       "Dep. Variable:                Glucose   R-squared:                       0.114\n",
       "Model:                            OLS   Adj. R-squared:                  0.112\n",
       "Method:                 Least Squares   F-statistic:                     49.33\n",
       "Date:                Fri, 17 Dec 2021   Prob (F-statistic):           7.05e-21\n",
       "Time:                        14:07:06   Log-Likelihood:                -3703.7\n",
       "No. Observations:                 768   AIC:                             7413.\n",
       "Df Residuals:                     765   BIC:                             7427.\n",
       "Df Model:                           2                                         \n",
       "Covariance Type:            nonrobust                                         \n",
       "==============================================================================\n",
       "                 coef    std err          t      P>|t|      [0.025      0.975]\n",
       "------------------------------------------------------------------------------\n",
       "const         70.2952      5.402     13.013      0.000      59.691      80.899\n",
       "Age            0.6955      0.093      7.514      0.000       0.514       0.877\n",
       "BMI            0.8589      0.138      6.220      0.000       0.588       1.130\n",
       "==============================================================================\n",
       "Omnibus:                       18.855   Durbin-Watson:                   1.836\n",
       "Prob(Omnibus):                  0.000   Jarque-Bera (JB):               38.868\n",
       "Skew:                          -0.007   Prob(JB):                     3.63e-09\n",
       "Kurtosis:                       4.102   Cond. No.                         235.\n",
       "==============================================================================\n",
       "\n",
       "Notes:\n",
       "[1] Standard Errors assume that the covariance matrix of the errors is correctly specified.\n",
       "\"\"\""
      ]
     },
     "execution_count": 22,
     "metadata": {},
     "output_type": "execute_result"
    }
   ],
   "source": [
    "X_new=sm.add_constant(X_new)        #to add constant value in the model\n",
    "model= sm.OLS(Y,X_new).fit()         #fitting the model\n",
    "predictions= model.summary()      #summary of the model\n",
    "predictions"
   ]
  },
  {
   "cell_type": "code",
   "execution_count": 23,
   "id": "92ca73c1",
   "metadata": {},
   "outputs": [],
   "source": [
    "# The size of the coefficient for each independent variable gives you the size of the effect that variable is having \n",
    "# on your dependent variable, \n",
    "# and the sign on the coefficient (positive or negative) gives you the direction of the effect\n",
    "# holding all the other independent variables constant."
   ]
  },
  {
   "cell_type": "code",
   "execution_count": 24,
   "id": "d89f5078",
   "metadata": {},
   "outputs": [],
   "source": [
    "#In our case, Y = Glucose readings, X = Age and BMI\n",
    "#Glucose goes up by .69 with each year you get older\n",
    "#Glucose goes up by .85 with each unit increase in your BMI"
   ]
  },
  {
   "cell_type": "code",
   "execution_count": 28,
   "id": "d9e8a166",
   "metadata": {},
   "outputs": [],
   "source": [
    "#I want to do something like, what glucose level will a 65 year old have"
   ]
  },
  {
   "cell_type": "code",
   "execution_count": null,
   "id": "7a351645",
   "metadata": {},
   "outputs": [],
   "source": []
  }
 ],
 "metadata": {
  "kernelspec": {
   "display_name": "Python 3",
   "language": "python",
   "name": "python3"
  },
  "language_info": {
   "codemirror_mode": {
    "name": "ipython",
    "version": 3
   },
   "file_extension": ".py",
   "mimetype": "text/x-python",
   "name": "python",
   "nbconvert_exporter": "python",
   "pygments_lexer": "ipython3",
   "version": "3.8.8"
  }
 },
 "nbformat": 4,
 "nbformat_minor": 5
}
