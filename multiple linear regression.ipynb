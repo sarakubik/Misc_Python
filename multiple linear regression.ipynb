{
 "cells": [
  {
   "cell_type": "markdown",
   "id": "eb5e59c8",
   "metadata": {},
   "source": [
    "# Multiple linear regression\n",
    "#### following tutorial here https://codeburst.io/multiple-linear-regression-sklearn-and-statsmodels-798750747755"
   ]
  },
  {
   "cell_type": "code",
   "execution_count": 1,
   "id": "fb9206e7",
   "metadata": {},
   "outputs": [],
   "source": [
    "# Note we are NOT doing a train test split here"
   ]
  },
  {
   "cell_type": "code",
   "execution_count": 2,
   "id": "ff42b909",
   "metadata": {},
   "outputs": [],
   "source": [
    "import pandas as pd\n",
    "import numpy as np\n",
    "from sklearn.linear_model import LinearRegression\n",
    "import matplotlib.pyplot as plt"
   ]
  },
  {
   "cell_type": "code",
   "execution_count": 3,
   "id": "ddc40031",
   "metadata": {},
   "outputs": [
    {
     "data": {
      "text/html": [
       "<div>\n",
       "<style scoped>\n",
       "    .dataframe tbody tr th:only-of-type {\n",
       "        vertical-align: middle;\n",
       "    }\n",
       "\n",
       "    .dataframe tbody tr th {\n",
       "        vertical-align: top;\n",
       "    }\n",
       "\n",
       "    .dataframe thead th {\n",
       "        text-align: right;\n",
       "    }\n",
       "</style>\n",
       "<table border=\"1\" class=\"dataframe\">\n",
       "  <thead>\n",
       "    <tr style=\"text-align: right;\">\n",
       "      <th></th>\n",
       "      <th>Pregnancies</th>\n",
       "      <th>Glucose</th>\n",
       "      <th>BloodPressure</th>\n",
       "      <th>SkinThickness</th>\n",
       "      <th>Insulin</th>\n",
       "      <th>BMI</th>\n",
       "      <th>DiabetesPedigreeFunction</th>\n",
       "      <th>Age</th>\n",
       "      <th>Outcome</th>\n",
       "    </tr>\n",
       "  </thead>\n",
       "  <tbody>\n",
       "    <tr>\n",
       "      <th>0</th>\n",
       "      <td>6</td>\n",
       "      <td>129</td>\n",
       "      <td>90</td>\n",
       "      <td>7</td>\n",
       "      <td>326</td>\n",
       "      <td>19.6</td>\n",
       "      <td>0.582</td>\n",
       "      <td>60</td>\n",
       "      <td>0</td>\n",
       "    </tr>\n",
       "    <tr>\n",
       "      <th>1</th>\n",
       "      <td>12</td>\n",
       "      <td>92</td>\n",
       "      <td>62</td>\n",
       "      <td>7</td>\n",
       "      <td>258</td>\n",
       "      <td>27.6</td>\n",
       "      <td>0.926</td>\n",
       "      <td>44</td>\n",
       "      <td>1</td>\n",
       "    </tr>\n",
       "    <tr>\n",
       "      <th>2</th>\n",
       "      <td>1</td>\n",
       "      <td>90</td>\n",
       "      <td>68</td>\n",
       "      <td>8</td>\n",
       "      <td>0</td>\n",
       "      <td>24.5</td>\n",
       "      <td>1.138</td>\n",
       "      <td>36</td>\n",
       "      <td>0</td>\n",
       "    </tr>\n",
       "    <tr>\n",
       "      <th>3</th>\n",
       "      <td>1</td>\n",
       "      <td>109</td>\n",
       "      <td>60</td>\n",
       "      <td>8</td>\n",
       "      <td>182</td>\n",
       "      <td>25.4</td>\n",
       "      <td>0.947</td>\n",
       "      <td>21</td>\n",
       "      <td>0</td>\n",
       "    </tr>\n",
       "    <tr>\n",
       "      <th>4</th>\n",
       "      <td>1</td>\n",
       "      <td>73</td>\n",
       "      <td>50</td>\n",
       "      <td>10</td>\n",
       "      <td>0</td>\n",
       "      <td>23.0</td>\n",
       "      <td>0.248</td>\n",
       "      <td>21</td>\n",
       "      <td>0</td>\n",
       "    </tr>\n",
       "  </tbody>\n",
       "</table>\n",
       "</div>"
      ],
      "text/plain": [
       "   Pregnancies  Glucose  BloodPressure  SkinThickness  Insulin   BMI  \\\n",
       "0            6      129             90              7      326  19.6   \n",
       "1           12       92             62              7      258  27.6   \n",
       "2            1       90             68              8        0  24.5   \n",
       "3            1      109             60              8      182  25.4   \n",
       "4            1       73             50             10        0  23.0   \n",
       "\n",
       "   DiabetesPedigreeFunction  Age  Outcome  \n",
       "0                     0.582   60        0  \n",
       "1                     0.926   44        1  \n",
       "2                     1.138   36        0  \n",
       "3                     0.947   21        0  \n",
       "4                     0.248   21        0  "
      ]
     },
     "execution_count": 3,
     "metadata": {},
     "output_type": "execute_result"
    }
   ],
   "source": [
    "df = pd.read_csv('diabetes.csv')\n",
    "df.head()"
   ]
  },
  {
   "cell_type": "code",
   "execution_count": 4,
   "id": "ca7d1e3d",
   "metadata": {},
   "outputs": [],
   "source": [
    "# We want to use age, bloodpressure,and BMI to predict Glucose\n",
    "# so the independent variables X are age, bloodpressure and bmi\n",
    "# predicts the dependent variable, y, or Glucose"
   ]
  },
  {
   "cell_type": "code",
   "execution_count": 5,
   "id": "7556761e",
   "metadata": {},
   "outputs": [
    {
     "data": {
      "text/plain": [
       "(539, 9)"
      ]
     },
     "execution_count": 5,
     "metadata": {},
     "output_type": "execute_result"
    }
   ],
   "source": [
    "df.shape"
   ]
  },
  {
   "cell_type": "code",
   "execution_count": 6,
   "id": "fe198f9d",
   "metadata": {},
   "outputs": [],
   "source": [
    "#768 rows and 9 columns"
   ]
  },
  {
   "cell_type": "code",
   "execution_count": 7,
   "id": "499617fb",
   "metadata": {},
   "outputs": [
    {
     "data": {
      "text/html": [
       "<div>\n",
       "<style scoped>\n",
       "    .dataframe tbody tr th:only-of-type {\n",
       "        vertical-align: middle;\n",
       "    }\n",
       "\n",
       "    .dataframe tbody tr th {\n",
       "        vertical-align: top;\n",
       "    }\n",
       "\n",
       "    .dataframe thead th {\n",
       "        text-align: right;\n",
       "    }\n",
       "</style>\n",
       "<table border=\"1\" class=\"dataframe\">\n",
       "  <thead>\n",
       "    <tr style=\"text-align: right;\">\n",
       "      <th></th>\n",
       "      <th>Pregnancies</th>\n",
       "      <th>Glucose</th>\n",
       "      <th>BloodPressure</th>\n",
       "      <th>SkinThickness</th>\n",
       "      <th>Insulin</th>\n",
       "      <th>BMI</th>\n",
       "      <th>DiabetesPedigreeFunction</th>\n",
       "      <th>Age</th>\n",
       "      <th>Outcome</th>\n",
       "    </tr>\n",
       "  </thead>\n",
       "  <tbody>\n",
       "    <tr>\n",
       "      <th>count</th>\n",
       "      <td>539.000000</td>\n",
       "      <td>539.000000</td>\n",
       "      <td>539.000000</td>\n",
       "      <td>539.000000</td>\n",
       "      <td>539.000000</td>\n",
       "      <td>539.000000</td>\n",
       "      <td>539.000000</td>\n",
       "      <td>539.000000</td>\n",
       "      <td>539.000000</td>\n",
       "    </tr>\n",
       "    <tr>\n",
       "      <th>mean</th>\n",
       "      <td>3.525046</td>\n",
       "      <td>119.858998</td>\n",
       "      <td>71.204082</td>\n",
       "      <td>29.176252</td>\n",
       "      <td>113.538033</td>\n",
       "      <td>32.895733</td>\n",
       "      <td>0.502451</td>\n",
       "      <td>31.597403</td>\n",
       "      <td>0.333952</td>\n",
       "    </tr>\n",
       "    <tr>\n",
       "      <th>std</th>\n",
       "      <td>3.324018</td>\n",
       "      <td>32.946653</td>\n",
       "      <td>13.027106</td>\n",
       "      <td>10.489706</td>\n",
       "      <td>122.861998</td>\n",
       "      <td>6.871851</td>\n",
       "      <td>0.343215</td>\n",
       "      <td>10.744380</td>\n",
       "      <td>0.472061</td>\n",
       "    </tr>\n",
       "    <tr>\n",
       "      <th>min</th>\n",
       "      <td>0.000000</td>\n",
       "      <td>0.000000</td>\n",
       "      <td>0.000000</td>\n",
       "      <td>7.000000</td>\n",
       "      <td>0.000000</td>\n",
       "      <td>18.200000</td>\n",
       "      <td>0.085000</td>\n",
       "      <td>21.000000</td>\n",
       "      <td>0.000000</td>\n",
       "    </tr>\n",
       "    <tr>\n",
       "      <th>25%</th>\n",
       "      <td>1.000000</td>\n",
       "      <td>97.000000</td>\n",
       "      <td>64.000000</td>\n",
       "      <td>22.000000</td>\n",
       "      <td>0.000000</td>\n",
       "      <td>27.850000</td>\n",
       "      <td>0.259000</td>\n",
       "      <td>23.000000</td>\n",
       "      <td>0.000000</td>\n",
       "    </tr>\n",
       "    <tr>\n",
       "      <th>50%</th>\n",
       "      <td>2.000000</td>\n",
       "      <td>115.000000</td>\n",
       "      <td>72.000000</td>\n",
       "      <td>29.000000</td>\n",
       "      <td>90.000000</td>\n",
       "      <td>32.800000</td>\n",
       "      <td>0.415000</td>\n",
       "      <td>28.000000</td>\n",
       "      <td>0.000000</td>\n",
       "    </tr>\n",
       "    <tr>\n",
       "      <th>75%</th>\n",
       "      <td>5.000000</td>\n",
       "      <td>140.500000</td>\n",
       "      <td>80.000000</td>\n",
       "      <td>36.000000</td>\n",
       "      <td>165.000000</td>\n",
       "      <td>36.900000</td>\n",
       "      <td>0.659000</td>\n",
       "      <td>38.000000</td>\n",
       "      <td>1.000000</td>\n",
       "    </tr>\n",
       "    <tr>\n",
       "      <th>max</th>\n",
       "      <td>17.000000</td>\n",
       "      <td>199.000000</td>\n",
       "      <td>110.000000</td>\n",
       "      <td>99.000000</td>\n",
       "      <td>846.000000</td>\n",
       "      <td>67.100000</td>\n",
       "      <td>2.420000</td>\n",
       "      <td>81.000000</td>\n",
       "      <td>1.000000</td>\n",
       "    </tr>\n",
       "  </tbody>\n",
       "</table>\n",
       "</div>"
      ],
      "text/plain": [
       "       Pregnancies     Glucose  BloodPressure  SkinThickness     Insulin  \\\n",
       "count   539.000000  539.000000     539.000000     539.000000  539.000000   \n",
       "mean      3.525046  119.858998      71.204082      29.176252  113.538033   \n",
       "std       3.324018   32.946653      13.027106      10.489706  122.861998   \n",
       "min       0.000000    0.000000       0.000000       7.000000    0.000000   \n",
       "25%       1.000000   97.000000      64.000000      22.000000    0.000000   \n",
       "50%       2.000000  115.000000      72.000000      29.000000   90.000000   \n",
       "75%       5.000000  140.500000      80.000000      36.000000  165.000000   \n",
       "max      17.000000  199.000000     110.000000      99.000000  846.000000   \n",
       "\n",
       "              BMI  DiabetesPedigreeFunction         Age     Outcome  \n",
       "count  539.000000                539.000000  539.000000  539.000000  \n",
       "mean    32.895733                  0.502451   31.597403    0.333952  \n",
       "std      6.871851                  0.343215   10.744380    0.472061  \n",
       "min     18.200000                  0.085000   21.000000    0.000000  \n",
       "25%     27.850000                  0.259000   23.000000    0.000000  \n",
       "50%     32.800000                  0.415000   28.000000    0.000000  \n",
       "75%     36.900000                  0.659000   38.000000    1.000000  \n",
       "max     67.100000                  2.420000   81.000000    1.000000  "
      ]
     },
     "execution_count": 7,
     "metadata": {},
     "output_type": "execute_result"
    }
   ],
   "source": [
    "df.describe()"
   ]
  },
  {
   "cell_type": "code",
   "execution_count": 8,
   "id": "e615b736",
   "metadata": {},
   "outputs": [],
   "source": [
    "#note that if you had any categorical variables with answers liked \"yes\" or \"no\", you'll need to convert them to integers\n",
    "# so this https://towardsdatascience.com/multiple-linear-regression-model-using-python-machine-learning-d00c78f1172a"
   ]
  },
  {
   "cell_type": "markdown",
   "id": "5fbe5892",
   "metadata": {},
   "source": [
    "# Setting up the dependent y variable and independent x variables"
   ]
  },
  {
   "cell_type": "code",
   "execution_count": 9,
   "id": "b2f00977",
   "metadata": {},
   "outputs": [],
   "source": [
    "X=df[['Age','BloodPressure','BMI']]\n",
    "Y=df['Glucose']"
   ]
  },
  {
   "cell_type": "markdown",
   "id": "f7a5150c",
   "metadata": {},
   "source": [
    "# Regression"
   ]
  },
  {
   "cell_type": "code",
   "execution_count": 10,
   "id": "184a7e0f",
   "metadata": {},
   "outputs": [
    {
     "data": {
      "text/plain": [
       "LinearRegression()"
      ]
     },
     "execution_count": 10,
     "metadata": {},
     "output_type": "execute_result"
    }
   ],
   "source": [
    "reg=LinearRegression()     #initiating linear regression\n",
    "reg.fit(X,Y)"
   ]
  },
  {
   "cell_type": "code",
   "execution_count": 11,
   "id": "a29998c0",
   "metadata": {},
   "outputs": [],
   "source": [
    "Intercept=reg.intercept_\n",
    "Coefficients=reg.coef_"
   ]
  },
  {
   "cell_type": "code",
   "execution_count": 12,
   "id": "ea3d1d73",
   "metadata": {},
   "outputs": [
    {
     "name": "stdout",
     "output_type": "stream",
     "text": [
      "53.11338884392636\n"
     ]
    }
   ],
   "source": [
    "print(Intercept)"
   ]
  },
  {
   "cell_type": "code",
   "execution_count": 13,
   "id": "fbcda6f2",
   "metadata": {},
   "outputs": [
    {
     "name": "stdout",
     "output_type": "stream",
     "text": [
      "[0.70179891 0.20684168 0.90718802]\n"
     ]
    }
   ],
   "source": [
    "print(Coefficients)"
   ]
  },
  {
   "cell_type": "code",
   "execution_count": 14,
   "id": "63d9aacf",
   "metadata": {},
   "outputs": [],
   "source": [
    "import statsmodels.api as sm #for detail description of linear coefficients, intercepts, deviations, and many more"
   ]
  },
  {
   "cell_type": "code",
   "execution_count": 15,
   "id": "0bec028a",
   "metadata": {},
   "outputs": [],
   "source": [
    "#pip install -U statsmodels"
   ]
  },
  {
   "cell_type": "code",
   "execution_count": 16,
   "id": "f56a4595",
   "metadata": {
    "scrolled": true
   },
   "outputs": [
    {
     "data": {
      "text/html": [
       "<table class=\"simpletable\">\n",
       "<caption>OLS Regression Results</caption>\n",
       "<tr>\n",
       "  <th>Dep. Variable:</th>         <td>Glucose</td>     <th>  R-squared:         </th> <td>   0.123</td>\n",
       "</tr>\n",
       "<tr>\n",
       "  <th>Model:</th>                   <td>OLS</td>       <th>  Adj. R-squared:    </th> <td>   0.118</td>\n",
       "</tr>\n",
       "<tr>\n",
       "  <th>Method:</th>             <td>Least Squares</td>  <th>  F-statistic:       </th> <td>   24.99</td>\n",
       "</tr>\n",
       "<tr>\n",
       "  <th>Date:</th>             <td>Mon, 24 Jan 2022</td> <th>  Prob (F-statistic):</th> <td>3.84e-15</td>\n",
       "</tr>\n",
       "<tr>\n",
       "  <th>Time:</th>                 <td>11:19:34</td>     <th>  Log-Likelihood:    </th> <td> -2612.7</td>\n",
       "</tr>\n",
       "<tr>\n",
       "  <th>No. Observations:</th>      <td>   539</td>      <th>  AIC:               </th> <td>   5233.</td>\n",
       "</tr>\n",
       "<tr>\n",
       "  <th>Df Residuals:</th>          <td>   535</td>      <th>  BIC:               </th> <td>   5251.</td>\n",
       "</tr>\n",
       "<tr>\n",
       "  <th>Df Model:</th>              <td>     3</td>      <th>                     </th>     <td> </td>   \n",
       "</tr>\n",
       "<tr>\n",
       "  <th>Covariance Type:</th>      <td>nonrobust</td>    <th>                     </th>     <td> </td>   \n",
       "</tr>\n",
       "</table>\n",
       "<table class=\"simpletable\">\n",
       "<tr>\n",
       "        <td></td>           <th>coef</th>     <th>std err</th>      <th>t</th>      <th>P>|t|</th>  <th>[0.025</th>    <th>0.975]</th>  \n",
       "</tr>\n",
       "<tr>\n",
       "  <th>const</th>         <td>   53.1134</td> <td>    8.830</td> <td>    6.015</td> <td> 0.000</td> <td>   35.768</td> <td>   70.458</td>\n",
       "</tr>\n",
       "<tr>\n",
       "  <th>Age</th>           <td>    0.7018</td> <td>    0.131</td> <td>    5.351</td> <td> 0.000</td> <td>    0.444</td> <td>    0.959</td>\n",
       "</tr>\n",
       "<tr>\n",
       "  <th>BloodPressure</th> <td>    0.2068</td> <td>    0.113</td> <td>    1.838</td> <td> 0.067</td> <td>   -0.014</td> <td>    0.428</td>\n",
       "</tr>\n",
       "<tr>\n",
       "  <th>BMI</th>           <td>    0.9072</td> <td>    0.203</td> <td>    4.476</td> <td> 0.000</td> <td>    0.509</td> <td>    1.305</td>\n",
       "</tr>\n",
       "</table>\n",
       "<table class=\"simpletable\">\n",
       "<tr>\n",
       "  <th>Omnibus:</th>       <td>18.436</td> <th>  Durbin-Watson:     </th> <td>   1.837</td>\n",
       "</tr>\n",
       "<tr>\n",
       "  <th>Prob(Omnibus):</th> <td> 0.000</td> <th>  Jarque-Bera (JB):  </th> <td>  41.573</td>\n",
       "</tr>\n",
       "<tr>\n",
       "  <th>Skew:</th>          <td>-0.074</td> <th>  Prob(JB):          </th> <td>9.39e-10</td>\n",
       "</tr>\n",
       "<tr>\n",
       "  <th>Kurtosis:</th>      <td> 4.353</td> <th>  Cond. No.          </th> <td>    568.</td>\n",
       "</tr>\n",
       "</table><br/><br/>Notes:<br/>[1] Standard Errors assume that the covariance matrix of the errors is correctly specified."
      ],
      "text/plain": [
       "<class 'statsmodels.iolib.summary.Summary'>\n",
       "\"\"\"\n",
       "                            OLS Regression Results                            \n",
       "==============================================================================\n",
       "Dep. Variable:                Glucose   R-squared:                       0.123\n",
       "Model:                            OLS   Adj. R-squared:                  0.118\n",
       "Method:                 Least Squares   F-statistic:                     24.99\n",
       "Date:                Mon, 24 Jan 2022   Prob (F-statistic):           3.84e-15\n",
       "Time:                        11:19:34   Log-Likelihood:                -2612.7\n",
       "No. Observations:                 539   AIC:                             5233.\n",
       "Df Residuals:                     535   BIC:                             5251.\n",
       "Df Model:                           3                                         \n",
       "Covariance Type:            nonrobust                                         \n",
       "=================================================================================\n",
       "                    coef    std err          t      P>|t|      [0.025      0.975]\n",
       "---------------------------------------------------------------------------------\n",
       "const            53.1134      8.830      6.015      0.000      35.768      70.458\n",
       "Age               0.7018      0.131      5.351      0.000       0.444       0.959\n",
       "BloodPressure     0.2068      0.113      1.838      0.067      -0.014       0.428\n",
       "BMI               0.9072      0.203      4.476      0.000       0.509       1.305\n",
       "==============================================================================\n",
       "Omnibus:                       18.436   Durbin-Watson:                   1.837\n",
       "Prob(Omnibus):                  0.000   Jarque-Bera (JB):               41.573\n",
       "Skew:                          -0.074   Prob(JB):                     9.39e-10\n",
       "Kurtosis:                       4.353   Cond. No.                         568.\n",
       "==============================================================================\n",
       "\n",
       "Notes:\n",
       "[1] Standard Errors assume that the covariance matrix of the errors is correctly specified.\n",
       "\"\"\""
      ]
     },
     "execution_count": 16,
     "metadata": {},
     "output_type": "execute_result"
    }
   ],
   "source": [
    "X=sm.add_constant(X)        #to add constant value in the model\n",
    "model= sm.OLS(Y,X).fit()         #fitting the model\n",
    "predictions= model.summary()      #summary of the model\n",
    "predictions"
   ]
  },
  {
   "cell_type": "code",
   "execution_count": 17,
   "id": "16641c56",
   "metadata": {},
   "outputs": [],
   "source": [
    "#So here we see that only Age and BMI are significant with P values\n",
    "# since we have multivariate regression, we need to look at adjusted r-squred, which is pretty low (bad) at 11%"
   ]
  },
  {
   "cell_type": "code",
   "execution_count": 18,
   "id": "419665c9",
   "metadata": {},
   "outputs": [],
   "source": [
    "#So let's drop the \"Bloodpressure\" variable to see if we get a better fitting model\n",
    "X_new=df[['Age','BMI']]"
   ]
  },
  {
   "cell_type": "code",
   "execution_count": 19,
   "id": "7212f8e4",
   "metadata": {},
   "outputs": [
    {
     "data": {
      "text/plain": [
       "LinearRegression()"
      ]
     },
     "execution_count": 19,
     "metadata": {},
     "output_type": "execute_result"
    }
   ],
   "source": [
    "reg=LinearRegression()     #initiating linearregression\n",
    "reg.fit(X_new,Y)"
   ]
  },
  {
   "cell_type": "code",
   "execution_count": 20,
   "id": "a3a4d303",
   "metadata": {},
   "outputs": [
    {
     "name": "stdout",
     "output_type": "stream",
     "text": [
      "62.070830106456555\n"
     ]
    }
   ],
   "source": [
    "Intercept=reg.intercept_\n",
    "print(Intercept)\n"
   ]
  },
  {
   "cell_type": "code",
   "execution_count": 21,
   "id": "45ae8241",
   "metadata": {},
   "outputs": [
    {
     "name": "stdout",
     "output_type": "stream",
     "text": [
      "[0.77713118 1.01024778]\n"
     ]
    }
   ],
   "source": [
    "Coefficients=reg.coef_\n",
    "print(Coefficients)"
   ]
  },
  {
   "cell_type": "code",
   "execution_count": 22,
   "id": "53f2afa9",
   "metadata": {},
   "outputs": [
    {
     "data": {
      "text/html": [
       "<table class=\"simpletable\">\n",
       "<caption>OLS Regression Results</caption>\n",
       "<tr>\n",
       "  <th>Dep. Variable:</th>         <td>Glucose</td>     <th>  R-squared:         </th> <td>   0.117</td>\n",
       "</tr>\n",
       "<tr>\n",
       "  <th>Model:</th>                   <td>OLS</td>       <th>  Adj. R-squared:    </th> <td>   0.114</td>\n",
       "</tr>\n",
       "<tr>\n",
       "  <th>Method:</th>             <td>Least Squares</td>  <th>  F-statistic:       </th> <td>   35.63</td>\n",
       "</tr>\n",
       "<tr>\n",
       "  <th>Date:</th>             <td>Mon, 24 Jan 2022</td> <th>  Prob (F-statistic):</th> <td>2.96e-15</td>\n",
       "</tr>\n",
       "<tr>\n",
       "  <th>Time:</th>                 <td>11:19:40</td>     <th>  Log-Likelihood:    </th> <td> -2614.4</td>\n",
       "</tr>\n",
       "<tr>\n",
       "  <th>No. Observations:</th>      <td>   539</td>      <th>  AIC:               </th> <td>   5235.</td>\n",
       "</tr>\n",
       "<tr>\n",
       "  <th>Df Residuals:</th>          <td>   536</td>      <th>  BIC:               </th> <td>   5248.</td>\n",
       "</tr>\n",
       "<tr>\n",
       "  <th>Df Model:</th>              <td>     2</td>      <th>                     </th>     <td> </td>   \n",
       "</tr>\n",
       "<tr>\n",
       "  <th>Covariance Type:</th>      <td>nonrobust</td>    <th>                     </th>     <td> </td>   \n",
       "</tr>\n",
       "</table>\n",
       "<table class=\"simpletable\">\n",
       "<tr>\n",
       "    <td></td>       <th>coef</th>     <th>std err</th>      <th>t</th>      <th>P>|t|</th>  <th>[0.025</th>    <th>0.975]</th>  \n",
       "</tr>\n",
       "<tr>\n",
       "  <th>const</th> <td>   62.0708</td> <td>    7.379</td> <td>    8.412</td> <td> 0.000</td> <td>   47.576</td> <td>   76.566</td>\n",
       "</tr>\n",
       "<tr>\n",
       "  <th>Age</th>   <td>    0.7771</td> <td>    0.125</td> <td>    6.224</td> <td> 0.000</td> <td>    0.532</td> <td>    1.022</td>\n",
       "</tr>\n",
       "<tr>\n",
       "  <th>BMI</th>   <td>    1.0102</td> <td>    0.195</td> <td>    5.175</td> <td> 0.000</td> <td>    0.627</td> <td>    1.394</td>\n",
       "</tr>\n",
       "</table>\n",
       "<table class=\"simpletable\">\n",
       "<tr>\n",
       "  <th>Omnibus:</th>       <td>17.726</td> <th>  Durbin-Watson:     </th> <td>   1.831</td>\n",
       "</tr>\n",
       "<tr>\n",
       "  <th>Prob(Omnibus):</th> <td> 0.000</td> <th>  Jarque-Bera (JB):  </th> <td>  39.019</td>\n",
       "</tr>\n",
       "<tr>\n",
       "  <th>Skew:</th>          <td>-0.073</td> <th>  Prob(JB):          </th> <td>3.37e-09</td>\n",
       "</tr>\n",
       "<tr>\n",
       "  <th>Kurtosis:</th>      <td> 4.310</td> <th>  Cond. No.          </th> <td>    257.</td>\n",
       "</tr>\n",
       "</table><br/><br/>Notes:<br/>[1] Standard Errors assume that the covariance matrix of the errors is correctly specified."
      ],
      "text/plain": [
       "<class 'statsmodels.iolib.summary.Summary'>\n",
       "\"\"\"\n",
       "                            OLS Regression Results                            \n",
       "==============================================================================\n",
       "Dep. Variable:                Glucose   R-squared:                       0.117\n",
       "Model:                            OLS   Adj. R-squared:                  0.114\n",
       "Method:                 Least Squares   F-statistic:                     35.63\n",
       "Date:                Mon, 24 Jan 2022   Prob (F-statistic):           2.96e-15\n",
       "Time:                        11:19:40   Log-Likelihood:                -2614.4\n",
       "No. Observations:                 539   AIC:                             5235.\n",
       "Df Residuals:                     536   BIC:                             5248.\n",
       "Df Model:                           2                                         \n",
       "Covariance Type:            nonrobust                                         \n",
       "==============================================================================\n",
       "                 coef    std err          t      P>|t|      [0.025      0.975]\n",
       "------------------------------------------------------------------------------\n",
       "const         62.0708      7.379      8.412      0.000      47.576      76.566\n",
       "Age            0.7771      0.125      6.224      0.000       0.532       1.022\n",
       "BMI            1.0102      0.195      5.175      0.000       0.627       1.394\n",
       "==============================================================================\n",
       "Omnibus:                       17.726   Durbin-Watson:                   1.831\n",
       "Prob(Omnibus):                  0.000   Jarque-Bera (JB):               39.019\n",
       "Skew:                          -0.073   Prob(JB):                     3.37e-09\n",
       "Kurtosis:                       4.310   Cond. No.                         257.\n",
       "==============================================================================\n",
       "\n",
       "Notes:\n",
       "[1] Standard Errors assume that the covariance matrix of the errors is correctly specified.\n",
       "\"\"\""
      ]
     },
     "execution_count": 22,
     "metadata": {},
     "output_type": "execute_result"
    }
   ],
   "source": [
    "X_new=sm.add_constant(X_new)        #to add constant value in the model\n",
    "model= sm.OLS(Y,X_new).fit()         #fitting the model\n",
    "predictions= model.summary()      #summary of the model\n",
    "predictions"
   ]
  },
  {
   "cell_type": "code",
   "execution_count": 23,
   "id": "92ca73c1",
   "metadata": {},
   "outputs": [],
   "source": [
    "# The size of the coefficient for each independent variable gives you the size of the effect that variable is having \n",
    "# on your dependent variable, \n",
    "# and the sign on the coefficient (positive or negative) gives you the direction of the effect\n",
    "# holding all the other independent variables constant."
   ]
  },
  {
   "cell_type": "code",
   "execution_count": 24,
   "id": "d89f5078",
   "metadata": {},
   "outputs": [],
   "source": [
    "#In our case, Y = Glucose readings, x = Age and BMI\n",
    "#Glucose goes up by .77 with each year you get older\n",
    "#Glucose goes up by 1.01 with each unit increase in your BMI"
   ]
  },
  {
   "cell_type": "code",
   "execution_count": null,
   "id": "7a351645",
   "metadata": {},
   "outputs": [],
   "source": []
  }
 ],
 "metadata": {
  "kernelspec": {
   "display_name": "Python 3",
   "language": "python",
   "name": "python3"
  },
  "language_info": {
   "codemirror_mode": {
    "name": "ipython",
    "version": 3
   },
   "file_extension": ".py",
   "mimetype": "text/x-python",
   "name": "python",
   "nbconvert_exporter": "python",
   "pygments_lexer": "ipython3",
   "version": "3.8.8"
  }
 },
 "nbformat": 4,
 "nbformat_minor": 5
}
