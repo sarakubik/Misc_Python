{
 "cells": [
  {
   "cell_type": "markdown",
   "id": "c9a528c4",
   "metadata": {},
   "source": [
    "# Simple linear regression"
   ]
  },
  {
   "cell_type": "code",
   "execution_count": 1,
   "id": "dc385af3",
   "metadata": {},
   "outputs": [],
   "source": [
    "import pandas as pd\n",
    "import numpy as np\n",
    "from sklearn.model_selection import train_test_split\n",
    "from sklearn.linear_model import LinearRegression\n",
    "import matplotlib.pyplot as plt\n",
    "from sklearn.metrics import mean_squared_error, r2_score"
   ]
  },
  {
   "cell_type": "code",
   "execution_count": 2,
   "id": "a7bef672",
   "metadata": {},
   "outputs": [
    {
     "data": {
      "text/html": [
       "<div>\n",
       "<style scoped>\n",
       "    .dataframe tbody tr th:only-of-type {\n",
       "        vertical-align: middle;\n",
       "    }\n",
       "\n",
       "    .dataframe tbody tr th {\n",
       "        vertical-align: top;\n",
       "    }\n",
       "\n",
       "    .dataframe thead th {\n",
       "        text-align: right;\n",
       "    }\n",
       "</style>\n",
       "<table border=\"1\" class=\"dataframe\">\n",
       "  <thead>\n",
       "    <tr style=\"text-align: right;\">\n",
       "      <th></th>\n",
       "      <th>Pregnancies</th>\n",
       "      <th>Glucose</th>\n",
       "      <th>BloodPressure</th>\n",
       "      <th>SkinThickness</th>\n",
       "      <th>Insulin</th>\n",
       "      <th>BMI</th>\n",
       "      <th>DiabetesPedigreeFunction</th>\n",
       "      <th>Age</th>\n",
       "      <th>Outcome</th>\n",
       "    </tr>\n",
       "  </thead>\n",
       "  <tbody>\n",
       "    <tr>\n",
       "      <th>0</th>\n",
       "      <td>6</td>\n",
       "      <td>129</td>\n",
       "      <td>90</td>\n",
       "      <td>7</td>\n",
       "      <td>326</td>\n",
       "      <td>19.6</td>\n",
       "      <td>0.582</td>\n",
       "      <td>60</td>\n",
       "      <td>0</td>\n",
       "    </tr>\n",
       "    <tr>\n",
       "      <th>1</th>\n",
       "      <td>12</td>\n",
       "      <td>92</td>\n",
       "      <td>62</td>\n",
       "      <td>7</td>\n",
       "      <td>258</td>\n",
       "      <td>27.6</td>\n",
       "      <td>0.926</td>\n",
       "      <td>44</td>\n",
       "      <td>1</td>\n",
       "    </tr>\n",
       "    <tr>\n",
       "      <th>2</th>\n",
       "      <td>1</td>\n",
       "      <td>90</td>\n",
       "      <td>68</td>\n",
       "      <td>8</td>\n",
       "      <td>0</td>\n",
       "      <td>24.5</td>\n",
       "      <td>1.138</td>\n",
       "      <td>36</td>\n",
       "      <td>0</td>\n",
       "    </tr>\n",
       "    <tr>\n",
       "      <th>3</th>\n",
       "      <td>1</td>\n",
       "      <td>109</td>\n",
       "      <td>60</td>\n",
       "      <td>8</td>\n",
       "      <td>182</td>\n",
       "      <td>25.4</td>\n",
       "      <td>0.947</td>\n",
       "      <td>21</td>\n",
       "      <td>0</td>\n",
       "    </tr>\n",
       "    <tr>\n",
       "      <th>4</th>\n",
       "      <td>1</td>\n",
       "      <td>73</td>\n",
       "      <td>50</td>\n",
       "      <td>10</td>\n",
       "      <td>0</td>\n",
       "      <td>23.0</td>\n",
       "      <td>0.248</td>\n",
       "      <td>21</td>\n",
       "      <td>0</td>\n",
       "    </tr>\n",
       "  </tbody>\n",
       "</table>\n",
       "</div>"
      ],
      "text/plain": [
       "   Pregnancies  Glucose  BloodPressure  SkinThickness  Insulin   BMI  \\\n",
       "0            6      129             90              7      326  19.6   \n",
       "1           12       92             62              7      258  27.6   \n",
       "2            1       90             68              8        0  24.5   \n",
       "3            1      109             60              8      182  25.4   \n",
       "4            1       73             50             10        0  23.0   \n",
       "\n",
       "   DiabetesPedigreeFunction  Age  Outcome  \n",
       "0                     0.582   60        0  \n",
       "1                     0.926   44        1  \n",
       "2                     1.138   36        0  \n",
       "3                     0.947   21        0  \n",
       "4                     0.248   21        0  "
      ]
     },
     "execution_count": 2,
     "metadata": {},
     "output_type": "execute_result"
    }
   ],
   "source": [
    "df = pd.read_csv('diabetes.csv')\n",
    "df.head()"
   ]
  },
  {
   "cell_type": "code",
   "execution_count": 3,
   "id": "e66fafb3",
   "metadata": {},
   "outputs": [
    {
     "data": {
      "text/plain": [
       "Pregnancies                 0\n",
       "Glucose                     0\n",
       "BloodPressure               0\n",
       "SkinThickness               0\n",
       "Insulin                     0\n",
       "BMI                         0\n",
       "DiabetesPedigreeFunction    0\n",
       "Age                         0\n",
       "Outcome                     0\n",
       "dtype: int64"
      ]
     },
     "execution_count": 3,
     "metadata": {},
     "output_type": "execute_result"
    }
   ],
   "source": [
    "df.isnull().sum()"
   ]
  },
  {
   "cell_type": "code",
   "execution_count": 4,
   "id": "052ee7c6",
   "metadata": {},
   "outputs": [],
   "source": [
    "# We want to use tricep skinfold measurments to predict BMI\n",
    "# Y (BMI) is the dependent variable and the expected value of the outcome\n",
    "# x (Skin Thickness) is the independent or predictor variable."
   ]
  },
  {
   "cell_type": "code",
   "execution_count": 6,
   "id": "768b438d",
   "metadata": {},
   "outputs": [
    {
     "data": {
      "image/png": "[encoded data removed]",
      "text/plain": [
       "<Figure size 432x288 with 1 Axes>"
      ]
     },
     "metadata": {
      "needs_background": "light"
     },
     "output_type": "display_data"
    }
   ],
   "source": [
    "# Let's see if the data is linear\n",
    "df.plot(kind = 'scatter', x='SkinThickness', y='BMI')\n",
    "plt.show()"
   ]
  },
  {
   "cell_type": "code",
   "execution_count": 7,
   "id": "af3540b2",
   "metadata": {},
   "outputs": [],
   "source": [
    "#from above, it looks like there is a positive relationship between the variables\n",
    "# As under arm skin thickness increases, so does the BMI"
   ]
  },
  {
   "cell_type": "code",
   "execution_count": 8,
   "id": "466f5952",
   "metadata": {},
   "outputs": [],
   "source": [
    "# Test train split for supervised training\n",
    "X_train, X_test, y_train, y_test = train_test_split(df.SkinThickness, df.BMI)\n"
   ]
  },
  {
   "cell_type": "code",
   "execution_count": 9,
   "id": "418bb293",
   "metadata": {},
   "outputs": [
    {
     "data": {
      "text/plain": [
       "LinearRegression()"
      ]
     },
     "execution_count": 9,
     "metadata": {},
     "output_type": "execute_result"
    }
   ],
   "source": [
    "#Create linear model and train it\n",
    "reg = LinearRegression()\n",
    "reg.fit(X_train.values.reshape(-1, 1), y_train.values)"
   ]
  },
  {
   "cell_type": "code",
   "execution_count": 12,
   "id": "bf19677f",
   "metadata": {},
   "outputs": [
    {
     "data": {
      "image/png": "[encoded data removed]",
      "text/plain": [
       "<Figure size 432x288 with 1 Axes>"
      ]
     },
     "metadata": {
      "needs_background": "light"
     },
     "output_type": "display_data"
    }
   ],
   "source": [
    "# Use model to predict on test data\n",
    "prediction = reg.predict(X_test.values.reshape(-1, 1))\n",
    "\n",
    "#Plot prediction line against actual test data\n",
    "plt.plot(X_test, prediction, label=\"Linear Regression\", color='b')\n",
    "plt.scatter(X_test, y_test, label=\"Actual Test Data\", color='g', alpha=.7)\n",
    "plt.legend()\n",
    "plt.show()"
   ]
  },
  {
   "cell_type": "code",
   "execution_count": 14,
   "id": "aeb942d5",
   "metadata": {},
   "outputs": [
    {
     "data": {
      "text/plain": [
       "41.499214928446925"
      ]
     },
     "execution_count": 14,
     "metadata": {},
     "output_type": "execute_result"
    }
   ],
   "source": [
    "#To see how the model will predict BMI if a specific skin thickness of 50\n",
    "reg.predict(np.array([[50]]))[0]\n",
    "#You will have a BMI of 41.50 if your skin thickness is 50"
   ]
  },
  {
   "cell_type": "code",
   "execution_count": 15,
   "id": "84c99f3b",
   "metadata": {},
   "outputs": [
    {
     "data": {
      "text/plain": [
       "0.4685136568649394"
      ]
     },
     "execution_count": 15,
     "metadata": {},
     "output_type": "execute_result"
    }
   ],
   "source": [
    "#Score the model which is R squared score\n",
    "reg.score(X_test.values.reshape(-1,1), y_test.values)"
   ]
  },
  {
   "cell_type": "code",
   "execution_count": 16,
   "id": "83d52540",
   "metadata": {},
   "outputs": [],
   "source": [
    "# R-squared is the percentage of the dependent variable variation that a linear model explains\n",
    "# usually the larger the better, so 47% of BMI (dependent variable y) is explained by SkinThickness (independent variable x)"
   ]
  },
  {
   "cell_type": "code",
   "execution_count": 17,
   "id": "ccc95f55",
   "metadata": {},
   "outputs": [
    {
     "name": "stdout",
     "output_type": "stream",
     "text": [
      "Coefficient of determination: 0.47\n"
     ]
    }
   ],
   "source": [
    "#can also do R squared this way\n",
    "print(\"Coefficient of determination: %.2f\" % r2_score(y_test,prediction))"
   ]
  },
  {
   "cell_type": "code",
   "execution_count": 18,
   "id": "faded00b",
   "metadata": {},
   "outputs": [
    {
     "name": "stdout",
     "output_type": "stream",
     "text": [
      "Coefficient: \n",
      " [0.40294826]\n"
     ]
    }
   ],
   "source": [
    "print(\"Coefficient: \\n\", reg.coef_)"
   ]
  },
  {
   "cell_type": "code",
   "execution_count": 19,
   "id": "f641f38a",
   "metadata": {},
   "outputs": [],
   "source": [
    "# For coefficients, For every unit increase in SkinThickness, BMI should increase by .40"
   ]
  },
  {
   "cell_type": "code",
   "execution_count": 20,
   "id": "6dc42c94",
   "metadata": {},
   "outputs": [
    {
     "name": "stdout",
     "output_type": "stream",
     "text": [
      "Mean squared error: 26.37\n"
     ]
    }
   ],
   "source": [
    "print(\"Mean squared error: %.2f\" % mean_squared_error(y_test, prediction))"
   ]
  },
  {
   "cell_type": "code",
   "execution_count": 21,
   "id": "3630389d",
   "metadata": {},
   "outputs": [],
   "source": [
    "#We want MSE to be as low as possible to predict model fit"
   ]
  },
  {
   "cell_type": "code",
   "execution_count": null,
   "id": "dc955ac4",
   "metadata": {},
   "outputs": [],
   "source": []
  }
 ],
 "metadata": {
  "kernelspec": {
   "display_name": "Python 3",
   "language": "python",
   "name": "python3"
  },
  "language_info": {
   "codemirror_mode": {
    "name": "ipython",
    "version": 3
   },
   "file_extension": ".py",
   "mimetype": "text/x-python",
   "name": "python",
   "nbconvert_exporter": "python",
   "pygments_lexer": "ipython3",
   "version": "3.8.8"
  }
 },
 "nbformat": 4,
 "nbformat_minor": 5
}
