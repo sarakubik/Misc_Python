{
 "cells": [
  {
   "cell_type": "markdown",
   "id": "5406c56a",
   "metadata": {},
   "source": [
    "# Logistic Regression-simpler"
   ]
  },
  {
   "cell_type": "code",
   "execution_count": 1,
   "id": "98fc6845",
   "metadata": {},
   "outputs": [],
   "source": [
    "#https://www.datacamp.com/community/tutorials/understanding-logistic-regression-python"
   ]
  },
  {
   "cell_type": "code",
   "execution_count": 31,
   "id": "614ddd61",
   "metadata": {},
   "outputs": [],
   "source": [
    "import pandas as pd\n",
    "import numpy as np\n",
    "\n",
    "from sklearn.linear_model import LogisticRegression\n",
    "from sklearn.preprocessing import StandardScaler\n",
    "from sklearn.model_selection import train_test_split\n",
    "from sklearn.metrics import plot_confusion_matrix, plot_roc_curve\n"
   ]
  },
  {
   "cell_type": "code",
   "execution_count": 3,
   "id": "f43dab00",
   "metadata": {},
   "outputs": [],
   "source": [
    "#to load csv\n",
    "df = pd.read_csv('diabetes.csv')\n",
    "#Pima Indian Diabetes dataset from Kaggle"
   ]
  },
  {
   "cell_type": "markdown",
   "id": "a5b08a70",
   "metadata": {},
   "source": [
    "### Research question: What factors affect the chances of getting heart diabetes?\n",
    "##### Y is dependent variable called 'Outcome' where 0 = no diabetes, 1 = yes diabetes\n",
    "##### X are 7 explanatory variables (did not use 'SkinThickness')"
   ]
  },
  {
   "cell_type": "markdown",
   "id": "75598d99",
   "metadata": {},
   "source": [
    "# Data cleaning"
   ]
  },
  {
   "cell_type": "code",
   "execution_count": 4,
   "id": "b9298e34",
   "metadata": {},
   "outputs": [
    {
     "data": {
      "text/html": [
       "<div>\n",
       "<style scoped>\n",
       "    .dataframe tbody tr th:only-of-type {\n",
       "        vertical-align: middle;\n",
       "    }\n",
       "\n",
       "    .dataframe tbody tr th {\n",
       "        vertical-align: top;\n",
       "    }\n",
       "\n",
       "    .dataframe thead th {\n",
       "        text-align: right;\n",
       "    }\n",
       "</style>\n",
       "<table border=\"1\" class=\"dataframe\">\n",
       "  <thead>\n",
       "    <tr style=\"text-align: right;\">\n",
       "      <th></th>\n",
       "      <th>Pregnancies</th>\n",
       "      <th>Glucose</th>\n",
       "      <th>BloodPressure</th>\n",
       "      <th>SkinThickness</th>\n",
       "      <th>Insulin</th>\n",
       "      <th>BMI</th>\n",
       "      <th>DiabetesPedigreeFunction</th>\n",
       "      <th>Age</th>\n",
       "      <th>Outcome</th>\n",
       "    </tr>\n",
       "  </thead>\n",
       "  <tbody>\n",
       "    <tr>\n",
       "      <th>0</th>\n",
       "      <td>6</td>\n",
       "      <td>129</td>\n",
       "      <td>90</td>\n",
       "      <td>7</td>\n",
       "      <td>326</td>\n",
       "      <td>19.6</td>\n",
       "      <td>0.582</td>\n",
       "      <td>60</td>\n",
       "      <td>0</td>\n",
       "    </tr>\n",
       "    <tr>\n",
       "      <th>1</th>\n",
       "      <td>12</td>\n",
       "      <td>92</td>\n",
       "      <td>62</td>\n",
       "      <td>7</td>\n",
       "      <td>258</td>\n",
       "      <td>27.6</td>\n",
       "      <td>0.926</td>\n",
       "      <td>44</td>\n",
       "      <td>1</td>\n",
       "    </tr>\n",
       "    <tr>\n",
       "      <th>2</th>\n",
       "      <td>1</td>\n",
       "      <td>90</td>\n",
       "      <td>68</td>\n",
       "      <td>8</td>\n",
       "      <td>0</td>\n",
       "      <td>24.5</td>\n",
       "      <td>1.138</td>\n",
       "      <td>36</td>\n",
       "      <td>0</td>\n",
       "    </tr>\n",
       "    <tr>\n",
       "      <th>3</th>\n",
       "      <td>1</td>\n",
       "      <td>109</td>\n",
       "      <td>60</td>\n",
       "      <td>8</td>\n",
       "      <td>182</td>\n",
       "      <td>25.4</td>\n",
       "      <td>0.947</td>\n",
       "      <td>21</td>\n",
       "      <td>0</td>\n",
       "    </tr>\n",
       "    <tr>\n",
       "      <th>4</th>\n",
       "      <td>1</td>\n",
       "      <td>73</td>\n",
       "      <td>50</td>\n",
       "      <td>10</td>\n",
       "      <td>0</td>\n",
       "      <td>23.0</td>\n",
       "      <td>0.248</td>\n",
       "      <td>21</td>\n",
       "      <td>0</td>\n",
       "    </tr>\n",
       "  </tbody>\n",
       "</table>\n",
       "</div>"
      ],
      "text/plain": [
       "   Pregnancies  Glucose  BloodPressure  SkinThickness  Insulin   BMI  \\\n",
       "0            6      129             90              7      326  19.6   \n",
       "1           12       92             62              7      258  27.6   \n",
       "2            1       90             68              8        0  24.5   \n",
       "3            1      109             60              8      182  25.4   \n",
       "4            1       73             50             10        0  23.0   \n",
       "\n",
       "   DiabetesPedigreeFunction  Age  Outcome  \n",
       "0                     0.582   60        0  \n",
       "1                     0.926   44        1  \n",
       "2                     1.138   36        0  \n",
       "3                     0.947   21        0  \n",
       "4                     0.248   21        0  "
      ]
     },
     "execution_count": 4,
     "metadata": {},
     "output_type": "execute_result"
    }
   ],
   "source": [
    "df.head()"
   ]
  },
  {
   "cell_type": "code",
   "execution_count": 5,
   "id": "1ce91800",
   "metadata": {},
   "outputs": [
    {
     "name": "stdout",
     "output_type": "stream",
     "text": [
      "(539, 9)\n"
     ]
    },
    {
     "data": {
      "text/plain": [
       "Pregnancies                 0\n",
       "Glucose                     0\n",
       "BloodPressure               0\n",
       "SkinThickness               0\n",
       "Insulin                     0\n",
       "BMI                         0\n",
       "DiabetesPedigreeFunction    0\n",
       "Age                         0\n",
       "Outcome                     0\n",
       "dtype: int64"
      ]
     },
     "execution_count": 5,
     "metadata": {},
     "output_type": "execute_result"
    }
   ],
   "source": [
    "#check to see if any missing data\n",
    "print(df.shape)\n",
    "df.isnull().sum()"
   ]
  },
  {
   "cell_type": "code",
   "execution_count": 8,
   "id": "89dab1e7",
   "metadata": {},
   "outputs": [],
   "source": [
    "### Set Y and X variables"
   ]
  },
  {
   "cell_type": "code",
   "execution_count": 13,
   "id": "2bd1e0b6",
   "metadata": {
    "scrolled": true
   },
   "outputs": [],
   "source": [
    "independent_var = ['Pregnancies', 'Insulin', 'BMI', 'Age','Glucose','BloodPressure','DiabetesPedigreeFunction']\n",
    "X = df[independent_var] # Independent variables\n",
    "y = df.Outcome # Dependent variable"
   ]
  },
  {
   "cell_type": "markdown",
   "id": "64ded6d0",
   "metadata": {},
   "source": [
    "# Train Test split"
   ]
  },
  {
   "cell_type": "code",
   "execution_count": null,
   "id": "c7ea7bca",
   "metadata": {},
   "outputs": [],
   "source": [
    "X_train, X_test, y_train, y_test=train_test_split(X,y,test_size=0.20,random_state=0)\n",
    "print(X_train.shape)\n",
    "print(X_test.shape)"
   ]
  },
  {
   "cell_type": "markdown",
   "id": "853f3b61",
   "metadata": {},
   "source": [
    "# Logistic Regression"
   ]
  },
  {
   "cell_type": "code",
   "execution_count": 15,
   "id": "ddabf731",
   "metadata": {},
   "outputs": [],
   "source": [
    "logreg = LogisticRegression()\n",
    "\n",
    "# fit the model with data\n",
    "logreg.fit(X_train,y_train)\n",
    "\n",
    "#idk what this is\n",
    "# y_pred=logreg.predict(X_test)"
   ]
  },
  {
   "cell_type": "code",
   "execution_count": 40,
   "id": "8d63a04a",
   "metadata": {},
   "outputs": [
    {
     "data": {
      "text/html": [
       "<div>\n",
       "<style scoped>\n",
       "    .dataframe tbody tr th:only-of-type {\n",
       "        vertical-align: middle;\n",
       "    }\n",
       "\n",
       "    .dataframe tbody tr th {\n",
       "        vertical-align: top;\n",
       "    }\n",
       "\n",
       "    .dataframe thead th {\n",
       "        text-align: right;\n",
       "    }\n",
       "</style>\n",
       "<table border=\"1\" class=\"dataframe\">\n",
       "  <thead>\n",
       "    <tr style=\"text-align: right;\">\n",
       "      <th></th>\n",
       "      <th>coef</th>\n",
       "    </tr>\n",
       "  </thead>\n",
       "  <tbody>\n",
       "    <tr>\n",
       "      <th>DiabetesPedigreeFunction</th>\n",
       "      <td>1.212129</td>\n",
       "    </tr>\n",
       "    <tr>\n",
       "      <th>Pregnancies</th>\n",
       "      <td>0.093205</td>\n",
       "    </tr>\n",
       "    <tr>\n",
       "      <th>BMI</th>\n",
       "      <td>0.087295</td>\n",
       "    </tr>\n",
       "    <tr>\n",
       "      <th>Age</th>\n",
       "      <td>0.036515</td>\n",
       "    </tr>\n",
       "    <tr>\n",
       "      <th>Glucose</th>\n",
       "      <td>0.033771</td>\n",
       "    </tr>\n",
       "    <tr>\n",
       "      <th>Insulin</th>\n",
       "      <td>-0.001024</td>\n",
       "    </tr>\n",
       "    <tr>\n",
       "      <th>BloodPressure</th>\n",
       "      <td>-0.010531</td>\n",
       "    </tr>\n",
       "  </tbody>\n",
       "</table>\n",
       "</div>"
      ],
      "text/plain": [
       "                              coef\n",
       "DiabetesPedigreeFunction  1.212129\n",
       "Pregnancies               0.093205\n",
       "BMI                       0.087295\n",
       "Age                       0.036515\n",
       "Glucose                   0.033771\n",
       "Insulin                  -0.001024\n",
       "BloodPressure            -0.010531"
      ]
     },
     "execution_count": 40,
     "metadata": {},
     "output_type": "execute_result"
    }
   ],
   "source": [
    "log_odds = logreg.coef_[0]   #put into a dataframe \n",
    "pd.DataFrame(log_odds, \n",
    "             X.columns, \n",
    "             columns=['coef'])\\\n",
    "            .sort_values(by='coef', ascending=False)"
   ]
  },
  {
   "cell_type": "code",
   "execution_count": 42,
   "id": "05ab7306",
   "metadata": {},
   "outputs": [],
   "source": [
    "# Need to convert log odds coefficient into regular odds\n",
    "# see more here: https://towardsdatascience.com/interpreting-coefficients-in-linear-and-logistic-regression-6ddf1295f6f1"
   ]
  },
  {
   "cell_type": "code",
   "execution_count": 43,
   "id": "4562e327",
   "metadata": {},
   "outputs": [
    {
     "data": {
      "text/html": [
       "<div>\n",
       "<style scoped>\n",
       "    .dataframe tbody tr th:only-of-type {\n",
       "        vertical-align: middle;\n",
       "    }\n",
       "\n",
       "    .dataframe tbody tr th {\n",
       "        vertical-align: top;\n",
       "    }\n",
       "\n",
       "    .dataframe thead th {\n",
       "        text-align: right;\n",
       "    }\n",
       "</style>\n",
       "<table border=\"1\" class=\"dataframe\">\n",
       "  <thead>\n",
       "    <tr style=\"text-align: right;\">\n",
       "      <th></th>\n",
       "      <th>coef</th>\n",
       "    </tr>\n",
       "  </thead>\n",
       "  <tbody>\n",
       "    <tr>\n",
       "      <th>DiabetesPedigreeFunction</th>\n",
       "      <td>3.360630</td>\n",
       "    </tr>\n",
       "    <tr>\n",
       "      <th>Pregnancies</th>\n",
       "      <td>1.097687</td>\n",
       "    </tr>\n",
       "    <tr>\n",
       "      <th>BMI</th>\n",
       "      <td>1.091219</td>\n",
       "    </tr>\n",
       "    <tr>\n",
       "      <th>Age</th>\n",
       "      <td>1.037190</td>\n",
       "    </tr>\n",
       "    <tr>\n",
       "      <th>Glucose</th>\n",
       "      <td>1.034348</td>\n",
       "    </tr>\n",
       "    <tr>\n",
       "      <th>Insulin</th>\n",
       "      <td>0.998977</td>\n",
       "    </tr>\n",
       "    <tr>\n",
       "      <th>BloodPressure</th>\n",
       "      <td>0.989524</td>\n",
       "    </tr>\n",
       "  </tbody>\n",
       "</table>\n",
       "</div>"
      ],
      "text/plain": [
       "                              coef\n",
       "DiabetesPedigreeFunction  3.360630\n",
       "Pregnancies               1.097687\n",
       "BMI                       1.091219\n",
       "Age                       1.037190\n",
       "Glucose                   1.034348\n",
       "Insulin                   0.998977\n",
       "BloodPressure             0.989524"
      ]
     },
     "execution_count": 43,
     "metadata": {},
     "output_type": "execute_result"
    }
   ],
   "source": [
    "odds = np.exp(logreg.coef_[0])\n",
    "pd.DataFrame(odds, \n",
    "             X.columns, \n",
    "             columns=['coef'])\\\n",
    "            .sort_values(by='coef', ascending=False)"
   ]
  },
  {
   "cell_type": "markdown",
   "id": "afee8e6a",
   "metadata": {},
   "source": [
    "# Note, to get p values, do this in R.\n",
    "### My filed is under /Data Science/ R / Linear and logistic regression"
   ]
  },
  {
   "cell_type": "markdown",
   "id": "231a0040",
   "metadata": {},
   "source": [
    "### Interpretation if the coefficients are greater than 1"
   ]
  },
  {
   "cell_type": "code",
   "execution_count": 1,
   "id": "0c522cae",
   "metadata": {},
   "outputs": [],
   "source": [
    "# For every one-unit increase in [X variable], the odds that the observation is in (y class) are \n",
    "# [coefficient] times as large as the odds that \n",
    "# the observation is not in (y class) when all other variables are held constant.”"
   ]
  },
  {
   "cell_type": "code",
   "execution_count": 2,
   "id": "7efd0efd",
   "metadata": {},
   "outputs": [],
   "source": [
    "# For every year a person ages, the odds that the person have diabetes are 1.03 times as large as the odds\n",
    "# that they don't have diabetes, when all other variables are held constant"
   ]
  },
  {
   "cell_type": "markdown",
   "id": "1e98cbcd",
   "metadata": {},
   "source": [
    "### Interpretation if the coefficients are less than 1\n",
    "### but idk if this is correct- need to check on it"
   ]
  },
  {
   "cell_type": "code",
   "execution_count": 3,
   "id": "e3a1eed1",
   "metadata": {},
   "outputs": [],
   "source": [
    "# First take 1/coefficient\n",
    "# For every one-unit increase in [X variable], the odds that the observation NOT (y class) are \n",
    "# [coefficient] times as large as the odds that \n",
    "# the observation is in (y class) when all other variables are held constant.”"
   ]
  },
  {
   "cell_type": "code",
   "execution_count": null,
   "id": "f63880ec",
   "metadata": {},
   "outputs": [],
   "source": [
    "# For blood pressure... 1/.989 = 1.01\n",
    "# For every one-unit increase in blood pressure, the odds that the person does NOT have diabetes is 1.01 x as\n",
    "# the odds that that person has diabetes when all other variables are held constant."
   ]
  },
  {
   "cell_type": "markdown",
   "id": "7e5dbe92",
   "metadata": {},
   "source": [
    "# Evaluate the model"
   ]
  },
  {
   "cell_type": "code",
   "execution_count": 25,
   "id": "58c9bdae",
   "metadata": {},
   "outputs": [
    {
     "name": "stdout",
     "output_type": "stream",
     "text": [
      "Confusion Matrix\n"
     ]
    },
    {
     "data": {
      "text/plain": [
       "<sklearn.metrics._plot.confusion_matrix.ConfusionMatrixDisplay at 0x1e61c866dc0>"
      ]
     },
     "execution_count": 25,
     "metadata": {},
     "output_type": "execute_result"
    },
    {
     "data": {
      "image/png": "[encoded data removed]",
      "text/plain": [
       "<Figure size 432x288 with 2 Axes>"
      ]
     },
     "metadata": {
      "needs_background": "light"
     },
     "output_type": "display_data"
    }
   ],
   "source": [
    "print('Confusion Matrix')\n",
    "plot_confusion_matrix(logreg, X_test, y_test)"
   ]
  },
  {
   "cell_type": "code",
   "execution_count": 39,
   "id": "1b2d17d2",
   "metadata": {},
   "outputs": [
    {
     "name": "stdout",
     "output_type": "stream",
     "text": [
      "Training set accuracy score: 0.789\n",
      "Testing set accuracy score: 0.741\n"
     ]
    }
   ],
   "source": [
    "print(\"Training set accuracy score: {:.3f}\".format(logreg.score(X_train,y_train)))\n",
    "print(\"Testing set accuracy score: {:.3f}\".format(logreg.score(X_test,y_test)))"
   ]
  },
  {
   "cell_type": "code",
   "execution_count": 29,
   "id": "845915e0",
   "metadata": {},
   "outputs": [
    {
     "data": {
      "text/plain": [
       "<sklearn.metrics._plot.roc_curve.RocCurveDisplay at 0x1e61c8a6310>"
      ]
     },
     "execution_count": 29,
     "metadata": {},
     "output_type": "execute_result"
    },
    {
     "data": {
      "image/png": "[encoded data removed]",
      "text/plain": [
       "<Figure size 432x288 with 1 Axes>"
      ]
     },
     "metadata": {
      "needs_background": "light"
     },
     "output_type": "display_data"
    }
   ],
   "source": [
    "#plot a roc curve\n",
    "plot_roc_curve(logreg, X_test, y_test)"
   ]
  },
  {
   "cell_type": "code",
   "execution_count": 30,
   "id": "9d36c2a6",
   "metadata": {},
   "outputs": [],
   "source": [
    "# AUC (area under curve) is .84, which is good"
   ]
  },
  {
   "cell_type": "code",
   "execution_count": null,
   "id": "fe643b64",
   "metadata": {},
   "outputs": [],
   "source": []
  }
 ],
 "metadata": {
  "kernelspec": {
   "display_name": "Python 3",
   "language": "python",
   "name": "python3"
  },
  "language_info": {
   "codemirror_mode": {
    "name": "ipython",
    "version": 3
   },
   "file_extension": ".py",
   "mimetype": "text/x-python",
   "name": "python",
   "nbconvert_exporter": "python",
   "pygments_lexer": "ipython3",
   "version": "3.8.8"
  }
 },
 "nbformat": 4,
 "nbformat_minor": 5
}
