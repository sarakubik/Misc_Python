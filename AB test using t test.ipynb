{
 "cells": [
  {
   "cell_type": "markdown",
   "id": "3537fdd8",
   "metadata": {},
   "source": [
    "# A/B Testing using t test because samples are less than 30\n",
    "## two tailed\n",
    "### from tutorial https://towardsdatascience.com/simple-and-complet-guide-to-a-b-testing-c34154d0ce5a"
   ]
  },
  {
   "cell_type": "code",
   "execution_count": 12,
   "id": "e9165690",
   "metadata": {},
   "outputs": [],
   "source": [
    "#I had to fix one line of code from this tutorial"
   ]
  },
  {
   "cell_type": "code",
   "execution_count": 6,
   "id": "8b8b9059",
   "metadata": {},
   "outputs": [],
   "source": [
    "import numpy as np\n",
    "from scipy.stats import t"
   ]
  },
  {
   "cell_type": "code",
   "execution_count": 7,
   "id": "63a79da3",
   "metadata": {},
   "outputs": [],
   "source": [
    "#sample size of control group\n",
    "N_con = 20\n",
    "df_con = N_con - 1 # degrees of freedom of Control \n",
    "\n",
    "#sample size of experimental group\n",
    "N_exp = 20\n",
    "df_exp = N_exp - 1 # degrees of freedom of Experimental \n",
    "\n",
    "# Significance level\n",
    "alpha = 0.05"
   ]
  },
  {
   "cell_type": "code",
   "execution_count": 8,
   "id": "1eb48a16",
   "metadata": {},
   "outputs": [],
   "source": [
    "# data of control group with t-distribution\n",
    "X_con = np.random.standard_t(df_con,N_con)\n",
    "# data of experimental group with t-distribution\n",
    "X_exp = np.random.standard_t(df_exp,N_exp)\n",
    "\n",
    "# mean of control\n",
    "mu_con = np.mean(X_con)\n",
    "# mean of experimental\n",
    "mu_exp = np.mean(X_exp)\n",
    "\n",
    "# variance of control\n",
    "sigma_sqr_con = np.var(X_con)\n",
    "#variance of control\n",
    "sigma_sqr_exp = np.var(X_exp)\n",
    "\n",
    "# pooled variance\n",
    "pooled_variance_t_test = ((N_con-1)*sigma_sqr_con + (N_exp -1) * sigma_sqr_exp)/(N_con + N_exp-2)*(1/N_con + 1/N_exp)\n",
    "\n",
    "# Standard Error\n",
    "SE = np.sqrt(pooled_variance_t_test)"
   ]
  },
  {
   "cell_type": "code",
   "execution_count": 10,
   "id": "3b2ec5a3",
   "metadata": {},
   "outputs": [],
   "source": [
    "# Test Statistics\n",
    "T = (mu_con-mu_exp)/SE\n",
    "\n",
    "# Critical value for two sided 2 sample t-test\n",
    "t_crit = t.ppf(1-alpha/2, N_con + N_exp - 2)\n",
    "\n",
    "# P-value of the two sided T-test using t-distribution and its symmetric property\n",
    "p_value = t.sf(T, N_con + N_exp - 2)*2\n",
    "\n",
    "# Margin of Error\n",
    "margin_error = t_crit * SE\n",
    "# Confidence Interval\n",
    "CI = [(mu_con-mu_exp) - margin_error, (mu_con-mu_exp) + margin_error]"
   ]
  },
  {
   "cell_type": "code",
   "execution_count": 11,
   "id": "ae52b362",
   "metadata": {},
   "outputs": [
    {
     "name": "stdout",
     "output_type": "stream",
     "text": [
      "T-score:  1.6727569982410164\n",
      "T-critical:  2.024394164575136\n",
      "P_value:  0.10258992305119337\n",
      "Confidence Interval of 2 sample Z-test:  [-0.12  1.21]\n"
     ]
    }
   ],
   "source": [
    "print(\"T-score: \", T)\n",
    "print(\"T-critical: \", t_crit)\n",
    "print(\"P_value: \", p_value)\n",
    "print(\"Confidence Interval of 2 sample Z-test: \", np.round(CI,2))"
   ]
  },
  {
   "cell_type": "code",
   "execution_count": 13,
   "id": "c93de31d",
   "metadata": {},
   "outputs": [],
   "source": [
    "#interpretation: p_value is not letss than 0.5 so we cannot reject the null hypothesis\n",
    "# We have to conclude that the experimental group did not produce a different effect than the control group"
   ]
  },
  {
   "cell_type": "code",
   "execution_count": null,
   "id": "1f2ad3a9",
   "metadata": {},
   "outputs": [],
   "source": []
  }
 ],
 "metadata": {
  "kernelspec": {
   "display_name": "Python 3 (ipykernel)",
   "language": "python",
   "name": "python3"
  },
  "language_info": {
   "codemirror_mode": {
    "name": "ipython",
    "version": 3
   },
   "file_extension": ".py",
   "mimetype": "text/x-python",
   "name": "python",
   "nbconvert_exporter": "python",
   "pygments_lexer": "ipython3",
   "version": "3.9.7"
  }
 },
 "nbformat": 4,
 "nbformat_minor": 5
}
